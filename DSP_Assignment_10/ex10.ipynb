{
 "cells": [
  {
   "cell_type": "markdown",
   "metadata": {},
   "source": [
    "Digital Signal Processing\r\n",
    "\r\n",
    "Assignment #10\r\n",
    "\r\n",
    "Group Members:\r\n",
    "\r\n",
    "1. Navami Kairanda (Enrollment Number:2577665)\r\n",
    "2. Pankhuri Vanjani (Enrollment Number:7009617)"
   ]
  },
  {
   "cell_type": "markdown",
   "metadata": {},
   "source": [
    "**Q1**\r\n",
    "*PCA*"
   ]
  },
  {
   "cell_type": "code",
   "execution_count": 7,
   "metadata": {},
   "outputs": [
    {
     "data": {
      "text/html": [
       "<img src = \"10.jpg\",width=900, height=900>\n"
      ],
      "text/plain": [
       "<IPython.core.display.HTML object>"
      ]
     },
     "metadata": {},
     "output_type": "display_data"
    }
   ],
   "source": [
    "%%html\r\n",
    "<img src = \"10.png\",width=900, height=900>"
   ]
  },
  {
   "cell_type": "code",
   "execution_count": 8,
   "metadata": {},
   "outputs": [],
   "source": [
    "# 3\r\n",
    "import numpy as np\r\n",
    "import matplotlib.pyplot as plt\r\n",
    "import math\r\n",
    "import pdb\r\n",
    "\r\n",
    "seeds_dataset_file = open('seeds_dataset.txt', 'r')\r\n",
    "seeds_dataset = np.array([list(map(float, line.strip('\\n').split())) for line in seeds_dataset_file])\r\n",
    "\r\n",
    "n_features = 7\r\n",
    "n_classes = len(np.unique(seeds_dataset[...,7]))"
   ]
  },
  {
   "cell_type": "code",
   "execution_count": 9,
   "metadata": {},
   "outputs": [],
   "source": [
    " \r\n",
    "# 3.1\r\n",
    "def get_mean_per_class(seeds_dataset):\r\n",
    "    sum_per_class = np.zeros((n_classes, n_features))\r\n",
    "    count_per_class = np.zeros((n_classes))\r\n",
    "    for seed in seeds_dataset:\r\n",
    "        class_idx = seed[7].astype(int)-1\r\n",
    "        sum_per_class[class_idx] += seed[:n_features]\r\n",
    "        count_per_class[class_idx] += 1\r\n",
    "    return sum_per_class/count_per_class[...,None]\r\n"
   ]
  },
  {
   "cell_type": "code",
   "execution_count": 10,
   "metadata": {},
   "outputs": [],
   "source": [
    "# 3.2\r\n",
    "def get_within_class_scatter_matrix(seeds_dataset, mean_per_class):\r\n",
    "    class_idxs, class_counts = np.unique(seeds_dataset[...,7], return_counts=True)\r\n",
    "    fraction_classes = class_counts / class_counts.sum()\r\n",
    "    within_class_scatter_matrix = np.zeros((n_features, n_features))\r\n",
    "    for class_idx in class_idxs: \r\n",
    "        class_idx = int(class_idx - 1)\r\n",
    "        for seed in seeds_dataset:\r\n",
    "            if int(seed[...,7] - 1.) == class_idx:\r\n",
    "                sigma_class = (seed[:n_features] - mean_per_class[class_idx]) * (seed[:n_features] - mean_per_class[class_idx]).T\r\n",
    "        sigma_class /= class_counts[class_idx]\r\n",
    "        within_class_scatter_matrix += fraction_classes[class_idx] * sigma_class\r\n",
    "    return within_class_scatter_matrix\r\n"
   ]
  },
  {
   "cell_type": "code",
   "execution_count": 11,
   "metadata": {},
   "outputs": [],
   "source": [
    "# 3.3\r\n",
    "def get_between_class_scatter_matrix(seeds_dataset, mean_per_class):\r\n",
    "    class_idxs, class_counts = np.unique(seeds_dataset[...,7], return_counts=True)\r\n",
    "    fraction_classes = class_counts / class_counts.sum()\r\n",
    "    mean_vector = seeds_dataset[...,:n_features].mean(axis=0)\r\n",
    "    between_class_scatter_matrix = np.zeros((n_features, n_features))\r\n",
    "    for class_idx in class_idxs: \r\n",
    "        class_idx = int(class_idx - 1)\r\n",
    "        between_class_scatter_matrix += fraction_classes[class_idx] * (mean_per_class[class_idx] - mean_vector) * (mean_per_class[class_idx] - mean_vector).T\r\n",
    "    return between_class_scatter_matrix\r\n",
    "\r\n",
    "mean_per_class = get_mean_per_class(seeds_dataset)\r\n",
    "within_class_scatter_matrix = get_within_class_scatter_matrix(seeds_dataset, mean_per_class)\r\n",
    "between_class_scatter_matrix = get_between_class_scatter_matrix(seeds_dataset, mean_per_class)"
   ]
  }
 ],
 "metadata": {
  "interpreter": {
   "hash": "7b8b78b627a2dcb9ee2069047ccc182bbb0357f82ef99a7ec6c39b49fbe9bdf5"
  },
  "kernelspec": {
   "display_name": "Python 3.9.0 64-bit",
   "name": "python3"
  },
  "language_info": {
   "codemirror_mode": {
    "name": "ipython",
    "version": 3
   },
   "file_extension": ".py",
   "mimetype": "text/x-python",
   "name": "python",
   "nbconvert_exporter": "python",
   "pygments_lexer": "ipython3",
   "version": "3.9.0"
  },
  "metadata": {
   "interpreter": {
    "hash": "7b8b78b627a2dcb9ee2069047ccc182bbb0357f82ef99a7ec6c39b49fbe9bdf5"
   }
  },
  "orig_nbformat": 2
 },
 "nbformat": 4,
 "nbformat_minor": 2
}