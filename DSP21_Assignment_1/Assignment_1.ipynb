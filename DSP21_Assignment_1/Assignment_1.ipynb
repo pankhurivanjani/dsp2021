{
 "metadata": {
  "language_info": {
   "codemirror_mode": {
    "name": "ipython",
    "version": 3
   },
   "file_extension": ".py",
   "mimetype": "text/x-python",
   "name": "python",
   "nbconvert_exporter": "python",
   "pygments_lexer": "ipython3",
   "version": "3.9.0"
  },
  "orig_nbformat": 2,
  "kernelspec": {
   "name": "python390jvsc74a57bd07b8b78b627a2dcb9ee2069047ccc182bbb0357f82ef99a7ec6c39b49fbe9bdf5",
   "display_name": "Python 3.9.0 64-bit"
  },
  "metadata": {
   "interpreter": {
    "hash": "7b8b78b627a2dcb9ee2069047ccc182bbb0357f82ef99a7ec6c39b49fbe9bdf5"
   }
  }
 },
 "nbformat": 4,
 "nbformat_minor": 2,
 "cells": [
  {
   "cell_type": "code",
   "execution_count": 2,
   "metadata": {},
   "outputs": [],
   "source": [
    "import numpy as np\n",
    "import pdb\n",
    "from PIL import Image\n",
    "#import matplotlib.pyplot as plt\n",
    "\n",
    "\n",
    "vec1 = np.array([0, 127.5, 127.5])\n",
    "mat1 = np.array([[0.299, 0.587, 0.114], [-0.168736, -0.331264, 0.5], [0.5, -0.418688, -0.081312]])\n",
    "\n",
    "def rgb2ycbcr(rgb):\n",
    "    ycbcr = vec1 + rgb.dot(mat1.T) \n",
    "    return ycbcr\n",
    "\n",
    "def ycbcr2rgb(ycbcr):\n",
    "    mat1_inv = np.linalg.inv(mat1)\n",
    "    rgb = (ycbcr - vec1).dot(mat1_inv.T)\n",
    "    return rgb\n",
    "\n",
    "\n",
    "img = Image.open(\"birds.ppm\")\n",
    "img.show()\n",
    "\n",
    "img_rgb = np.asarray(img) #default image mode is rgb\n",
    "img_ycbcr = rgb2ycbcr(img_rgb)\n",
    "\n",
    "img_ycbcr_view = img_ycbcr.astype('uint8')\n",
    "img_ycbcr_view = Image.fromarray(img_ycbcr_view, mode='YCbCr')\n",
    "img_ycbcr_view.show()\n"
   ]
  },
  {
   "cell_type": "code",
   "execution_count": null,
   "metadata": {},
   "outputs": [],
   "source": []
  }
 ]
}