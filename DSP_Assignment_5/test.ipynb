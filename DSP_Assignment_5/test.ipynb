{
 "metadata": {
  "language_info": {
   "codemirror_mode": {
    "name": "ipython",
    "version": 3
   },
   "file_extension": ".py",
   "mimetype": "text/x-python",
   "name": "python",
   "nbconvert_exporter": "python",
   "pygments_lexer": "ipython3",
   "version": "3.8.5"
  },
  "orig_nbformat": 2,
  "kernelspec": {
   "name": "python38564bit28b29d54bb434118891186d15ae7c84f",
   "display_name": "Python 3.8.5 64-bit"
  },
  "metadata": {
   "interpreter": {
    "hash": "31f2aee4e71d21fbe5cf8b01ff0e069b9275f58929596ceb00d14d90e3e16cd6"
   }
  }
 },
 "nbformat": 4,
 "nbformat_minor": 2,
 "cells": [
  {
   "source": [
    "Digital Signal Processing\n",
    "\n",
    "Assignment #04\n",
    "\n",
    "Group Members:\n",
    "\n",
    "1. Navami Kairanda (Enrollment Number:2577665)\n",
    "1. Pankhuri Vanjani (Enrollment Number:7009617)"
   ],
   "cell_type": "markdown",
   "metadata": {}
  },
  {
   "cell_type": "code",
   "execution_count": 19,
   "metadata": {},
   "outputs": [
    {
     "output_type": "display_data",
     "data": {
      "text/plain": "<IPython.core.display.HTML object>",
      "text/html": "<img src = \"1.1a.png\",width=550, height=650>\n"
     },
     "metadata": {}
    }
   ],
   "source": [
    "%%html\n",
    "<img src = \"1.1a.png\",width=550, height=650>"
   ]
  },
  {
   "cell_type": "code",
   "execution_count": 20,
   "metadata": {},
   "outputs": [
    {
     "output_type": "display_data",
     "data": {
      "text/plain": "<IPython.core.display.HTML object>",
      "text/html": "<img src = \"1.1b.png\",width=550, height=650>\n"
     },
     "metadata": {}
    }
   ],
   "source": [
    "%%html\n",
    "<img src = \"1.1b.png\",width=550, height=650>"
   ]
  },
  {
   "cell_type": "code",
   "execution_count": 21,
   "metadata": {},
   "outputs": [
    {
     "output_type": "display_data",
     "data": {
      "text/plain": "<IPython.core.display.HTML object>",
      "text/html": "<img src = \"1.2.png\",width=550, height=650>\n"
     },
     "metadata": {}
    }
   ],
   "source": [
    "%%html\n",
    "<img src = \"1.2.png\",width=550, height=650>"
   ]
  },
  {
   "cell_type": "code",
   "execution_count": 22,
   "metadata": {},
   "outputs": [],
   "source": [
    "import numpy as np\n",
    "import math\n",
    "import matplotlib.pyplot as plt\n",
    "from sympy import *\n"
   ]
  },
  {
   "cell_type": "code",
   "execution_count": 23,
   "metadata": {},
   "outputs": [],
   "source": [
    "def directivity(x, theta, phi):\n",
    "\n",
    "  omega = 100\n",
    "  t = symbols('t')\n",
    "  T = symbols('T')\n",
    "  c = 330\n",
    "  R = 1\n",
    "    \n",
    "  s1 = R*cos(theta)*sin(phi)\n",
    "  s2 = R*sin(theta)*sin(phi)\n",
    "  s3 = R*cos(phi)\n",
    "\n",
    "  source = [s1,s2,s3]\n",
    "  desired_source = [0,1,1]\n",
    "\n",
    "  signal = sin(omega*t)\n",
    "  #power of original signal\n",
    "  power_signal_single =  (1/(2*T))*integrate(signal*signal,(t, -T,T))\n",
    "  power_signal_single = limit(power_signal_single,T,oo)\n",
    "\n",
    "  total_signal_power = 0\n",
    "  for i in range(len(x)):\n",
    "    dist_s = sqrt(Pow((x[i][0]-source[0]),2) + Pow((x[i][1]-source[1]),2) + Pow((x[i][2]-source[2]),2))\n",
    "    dist_d = sqrt(Pow(x[i][0]-desired_source[0],2) + Pow(x[i][1]-desired_source[1],2) + Pow(x[i][2]-desired_source[2],2))\n",
    "\n",
    "    total_signal_power = total_signal_power + sin(omega * (t - (dist_s-dist_d)/c))\n",
    "\n",
    "  total_signal_power = total_signal_power/len(x)\n",
    "\n",
    "  total_power_integral = (1/(2*T))*integrate(simplify(Pow(total_signal_power,2)), (t, -T, T))\n",
    "  average_power = limit(total_power_integral, T, oo) #limit not being solved \n",
    "\n",
    "  return average_power/power_signal_single\n"
   ]
  },
  {
   "cell_type": "code",
   "execution_count": 18,
   "metadata": {},
   "outputs": [
    {
     "output_type": "error",
     "ename": "NameError",
     "evalue": "name 'n' is not defined",
     "traceback": [
      "\u001b[0;31m---------------------------------------------------------------------------\u001b[0m",
      "\u001b[0;31mNameError\u001b[0m                                 Traceback (most recent call last)",
      "\u001b[0;32m<ipython-input-18-b0555465b285>\u001b[0m in \u001b[0;36m<module>\u001b[0;34m\u001b[0m\n\u001b[1;32m      2\u001b[0m \u001b[0mtheta\u001b[0m \u001b[0;34m=\u001b[0m \u001b[0msymbols\u001b[0m\u001b[0;34m(\u001b[0m\u001b[0;34m'theta'\u001b[0m\u001b[0;34m)\u001b[0m\u001b[0;34m\u001b[0m\u001b[0;34m\u001b[0m\u001b[0m\n\u001b[1;32m      3\u001b[0m \u001b[0mphi\u001b[0m \u001b[0;34m=\u001b[0m \u001b[0msymbols\u001b[0m\u001b[0;34m(\u001b[0m\u001b[0;34m'phi'\u001b[0m\u001b[0;34m)\u001b[0m\u001b[0;34m\u001b[0m\u001b[0;34m\u001b[0m\u001b[0m\n\u001b[0;32m----> 4\u001b[0;31m \u001b[0mintermediate\u001b[0m\u001b[0;34m=\u001b[0m \u001b[0mdirectivity\u001b[0m\u001b[0;34m(\u001b[0m\u001b[0mx\u001b[0m\u001b[0;34m,\u001b[0m \u001b[0mtheta\u001b[0m\u001b[0;34m,\u001b[0m \u001b[0mphi\u001b[0m\u001b[0;34m)\u001b[0m\u001b[0;34m\u001b[0m\u001b[0;34m\u001b[0m\u001b[0m\n\u001b[0m\u001b[1;32m      5\u001b[0m \u001b[0;31m#intermediate = simplify(intermediate)\u001b[0m\u001b[0;34m\u001b[0m\u001b[0;34m\u001b[0m\u001b[0;34m\u001b[0m\u001b[0m\n",
      "\u001b[0;32m<ipython-input-17-2211c638de3f>\u001b[0m in \u001b[0;36mdirectivity\u001b[0;34m(x, theta, phi)\u001b[0m\n\u001b[1;32m     26\u001b[0m     \u001b[0mtotal_signal_power\u001b[0m \u001b[0;34m=\u001b[0m \u001b[0mtotal_signal_power\u001b[0m \u001b[0;34m+\u001b[0m \u001b[0msin\u001b[0m\u001b[0;34m(\u001b[0m\u001b[0momega\u001b[0m \u001b[0;34m*\u001b[0m \u001b[0;34m(\u001b[0m\u001b[0mt\u001b[0m \u001b[0;34m-\u001b[0m \u001b[0;34m(\u001b[0m\u001b[0mdist_s\u001b[0m\u001b[0;34m-\u001b[0m\u001b[0mdist_d\u001b[0m\u001b[0;34m)\u001b[0m\u001b[0;34m/\u001b[0m\u001b[0mc\u001b[0m\u001b[0;34m)\u001b[0m\u001b[0;34m)\u001b[0m\u001b[0;34m\u001b[0m\u001b[0;34m\u001b[0m\u001b[0m\n\u001b[1;32m     27\u001b[0m \u001b[0;34m\u001b[0m\u001b[0m\n\u001b[0;32m---> 28\u001b[0;31m   \u001b[0mtotal_signal_power\u001b[0m \u001b[0;34m=\u001b[0m \u001b[0mtotal_signal_power\u001b[0m\u001b[0;34m/\u001b[0m\u001b[0mn\u001b[0m\u001b[0;34m\u001b[0m\u001b[0;34m\u001b[0m\u001b[0m\n\u001b[0m\u001b[1;32m     29\u001b[0m \u001b[0;34m\u001b[0m\u001b[0m\n\u001b[1;32m     30\u001b[0m   \u001b[0mtotal_power_integral\u001b[0m \u001b[0;34m=\u001b[0m \u001b[0;34m(\u001b[0m\u001b[0;36m1\u001b[0m\u001b[0;34m/\u001b[0m\u001b[0;34m(\u001b[0m\u001b[0;36m2\u001b[0m\u001b[0;34m*\u001b[0m\u001b[0mT\u001b[0m\u001b[0;34m)\u001b[0m\u001b[0;34m)\u001b[0m\u001b[0;34m*\u001b[0m\u001b[0mintegrate\u001b[0m\u001b[0;34m(\u001b[0m\u001b[0msimplify\u001b[0m\u001b[0;34m(\u001b[0m\u001b[0mPow\u001b[0m\u001b[0;34m(\u001b[0m\u001b[0mtotal_signal_power\u001b[0m\u001b[0;34m,\u001b[0m\u001b[0;36m2\u001b[0m\u001b[0;34m)\u001b[0m\u001b[0;34m)\u001b[0m\u001b[0;34m,\u001b[0m \u001b[0;34m(\u001b[0m\u001b[0mt\u001b[0m\u001b[0;34m,\u001b[0m \u001b[0;34m-\u001b[0m\u001b[0mT\u001b[0m\u001b[0;34m,\u001b[0m \u001b[0mT\u001b[0m\u001b[0;34m)\u001b[0m\u001b[0;34m)\u001b[0m\u001b[0;34m\u001b[0m\u001b[0;34m\u001b[0m\u001b[0m\n",
      "\u001b[0;31mNameError\u001b[0m: name 'n' is not defined"
     ]
    }
   ],
   "source": [
    "x=[[1,0,0],[0,1,0],[0,-1,0],[-1,0,0]]\n",
    "theta = symbols('theta')\n",
    "phi = symbols('phi')\n",
    "intermediate= directivity(x, theta, phi)\n",
    "#intermediate = simplify(intermediate)"
   ]
  },
  {
   "cell_type": "code",
   "execution_count": null,
   "metadata": {},
   "outputs": [],
   "source": [
    "intermediate"
   ]
  },
  {
   "cell_type": "code",
   "execution_count": null,
   "metadata": {},
   "outputs": [],
   "source": []
  }
 ]
}