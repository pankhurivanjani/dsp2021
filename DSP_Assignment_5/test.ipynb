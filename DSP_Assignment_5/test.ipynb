{
 "metadata": {
  "language_info": {
   "codemirror_mode": {
    "name": "ipython",
    "version": 3
   },
   "file_extension": ".py",
   "mimetype": "text/x-python",
   "name": "python",
   "nbconvert_exporter": "python",
   "pygments_lexer": "ipython3",
   "version": "3.8.5"
  },
  "orig_nbformat": 2,
  "kernelspec": {
   "name": "python38564bit28b29d54bb434118891186d15ae7c84f",
   "display_name": "Python 3.8.5 64-bit"
  },
  "metadata": {
   "interpreter": {
    "hash": "31f2aee4e71d21fbe5cf8b01ff0e069b9275f58929596ceb00d14d90e3e16cd6"
   }
  }
 },
 "nbformat": 4,
 "nbformat_minor": 2,
 "cells": [
  {
   "cell_type": "code",
   "execution_count": 1,
   "metadata": {},
   "outputs": [],
   "source": [
    "import numpy as np\n",
    "import math\n",
    "import matplotlib.pyplot as plt\n",
    "from sympy import *\n"
   ]
  },
  {
   "cell_type": "code",
   "execution_count": 2,
   "metadata": {},
   "outputs": [],
   "source": [
    "def directivity(x, theta, phi):\n",
    "\n",
    "  omega = 100\n",
    "  t = symbols('t')\n",
    "  T = symbols('T')\n",
    "  c = 330\n",
    "  R = 1\n",
    "    \n",
    "  s1 = R*cos(theta)*sin(phi)\n",
    "  s2 = R*sin(theta)*sin(phi)\n",
    "  s3 = R*cos(phi)\n",
    "\n",
    "  source = [s1,s2,s3]\n",
    "  desired_source = [0,1,1]\n",
    "\n",
    "  signal = sin(omega*t)\n",
    "  #power of original signal\n",
    "  power_signal_single =  (1/(2*T))*integrate(signal*signal,(t, -T,T))\n",
    "  power_signal_single = limit(power_signal_single,T,oo)\n",
    "\n",
    "  average_signal_power = 0\n",
    "  for i in range(len(x)):\n",
    "    dist_s = sqrt(Pow((x[i][0]-source[0]),2) + Pow((x[i][1]-source[1]),2) + Pow((x[i][2]-source[2]),2))\n",
    "    dist_d = sqrt(Pow(x[i][0]-desired_source[0],2) + Pow(x[i][1]-desired_source[1],2) + Pow(x[i][2]-desired_source[2],2))\n",
    "\n",
    "    total_signal_power = average_signal_power + sin(omega * (t - (dist_s-dist_d)/c))\n",
    "\n",
    "  total_signal_power = average_signal_expr/n\n",
    "\n",
    "  average_power_integral_expr = (1/(2*T))*integrate(simplify(Pow(average_signal_expr,2)), (t, -T, T))\n",
    "  average_power = limit(simplify(average_power_integral_expr), T, oo) #limit not being solved \n",
    "\n",
    "  return average_power/power_signal_single\n"
   ]
  },
  {
   "cell_type": "code",
   "execution_count": null,
   "metadata": {},
   "outputs": [],
   "source": [
    "x=[[1,0,0],[0,1,0],[0,-1,0],[-1,0,0]]\n",
    "theta = symbols('theta')\n",
    "phi = symbols('phi')\n",
    "intermediate= directivity(x, theta, phi)\n",
    "#intermediate = simplify(intermediate)"
   ]
  },
  {
   "cell_type": "code",
   "execution_count": null,
   "metadata": {},
   "outputs": [],
   "source": [
    "intermediate"
   ]
  },
  {
   "cell_type": "code",
   "execution_count": null,
   "metadata": {},
   "outputs": [],
   "source": []
  }
 ]
}