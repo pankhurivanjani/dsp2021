{
 "metadata": {
  "language_info": {
   "codemirror_mode": {
    "name": "ipython",
    "version": 3
   },
   "file_extension": ".py",
   "mimetype": "text/x-python",
   "name": "python",
   "nbconvert_exporter": "python",
   "pygments_lexer": "ipython3",
   "version": "3.8.5"
  },
  "orig_nbformat": 2,
  "kernelspec": {
   "name": "python38564bit28b29d54bb434118891186d15ae7c84f",
   "display_name": "Python 3.8.5 64-bit"
  },
  "metadata": {
   "interpreter": {
    "hash": "31f2aee4e71d21fbe5cf8b01ff0e069b9275f58929596ceb00d14d90e3e16cd6"
   }
  }
 },
 "nbformat": 4,
 "nbformat_minor": 2,
 "cells": [
  {
   "source": [
    "Digital Signal Processing\n",
    "\n",
    "Assignment #04\n",
    "\n",
    "Group Members:\n",
    "\n",
    "1. Navami Kairanda (Enrollment Number:2577665)\n",
    "1. Pankhuri Vanjani (Enrollment Number:7009617)"
   ],
   "cell_type": "markdown",
   "metadata": {}
  },
  {
   "cell_type": "code",
   "execution_count": 1,
   "metadata": {},
   "outputs": [
    {
     "output_type": "display_data",
     "data": {
      "text/plain": "<IPython.core.display.HTML object>",
      "text/html": "<img src = \"1.1a.png\",width=550, height=650>\n"
     },
     "metadata": {}
    }
   ],
   "source": [
    "%%html\n",
    "<img src = \"1.1a.png\",width=550, height=650>"
   ]
  },
  {
   "cell_type": "code",
   "execution_count": 2,
   "metadata": {},
   "outputs": [
    {
     "output_type": "display_data",
     "data": {
      "text/plain": "<IPython.core.display.HTML object>",
      "text/html": "<img src = \"1.1b.png\",width=550, height=650>\n"
     },
     "metadata": {}
    }
   ],
   "source": [
    "%%html\n",
    "<img src = \"1.1b.png\",width=550, height=650>"
   ]
  },
  {
   "cell_type": "code",
   "execution_count": 3,
   "metadata": {},
   "outputs": [
    {
     "output_type": "display_data",
     "data": {
      "text/plain": "<IPython.core.display.HTML object>",
      "text/html": "<img src = \"1.2.png\",width=550, height=650>\n"
     },
     "metadata": {}
    }
   ],
   "source": [
    "%%html\n",
    "<img src = \"1.2.png\",width=550, height=650>"
   ]
  },
  {
   "cell_type": "code",
   "execution_count": 4,
   "metadata": {},
   "outputs": [],
   "source": [
    "import numpy as np\n",
    "import math\n",
    "import matplotlib.pyplot as plt\n",
    "from sympy import *\n"
   ]
  },
  {
   "cell_type": "code",
   "execution_count": 5,
   "metadata": {},
   "outputs": [],
   "source": [
    "def directivity(x, theta, phi):\n",
    "\n",
    "  omega = 100\n",
    "  t = symbols('t')\n",
    "  T = symbols('T')\n",
    "  c = 330\n",
    "  R = 1\n",
    "    \n",
    "  s1 = R*cos(theta)*sin(phi)\n",
    "  s2 = R*sin(theta)*sin(phi)\n",
    "  s3 = R*cos(phi)\n",
    "\n",
    "  source = [s1,s2,s3]\n",
    "  desired_source = [0,1,1]\n",
    "\n",
    "  signal = sin(omega*t)\n",
    "  #power of original signal\n",
    "  power_signal_single =  (1/(2*T))*integrate(signal*signal,(t, -T,T))\n",
    "  power_signal_single = limit(power_signal_single,T,oo)\n",
    "\n",
    "  total_signal_power = 0\n",
    "  for i in range(len(x)):\n",
    "    dist_s = sqrt(Pow((x[i][0]-source[0]),2) + Pow((x[i][1]-source[1]),2) + Pow((x[i][2]-source[2]),2))\n",
    "    dist_d = sqrt(Pow(x[i][0]-desired_source[0],2) + Pow(x[i][1]-desired_source[1],2) + Pow(x[i][2]-desired_source[2],2))\n",
    "\n",
    "    total_signal_power = total_signal_power + sin(omega * (t - (dist_s-dist_d)/c))\n",
    "\n",
    "  total_signal_power = total_signal_power/len(x)\n",
    "\n",
    "  total_power_integral = (1/(2*T))*integrate(simplify(Pow(total_signal_power,2)), (t, -T, T))\n",
    "  average_power = limit(total_power_integral, T, oo) #limit not being solved \n",
    "\n",
    "  return average_power/power_signal_single\n"
   ]
  },
  {
   "cell_type": "code",
   "execution_count": 6,
   "metadata": {},
   "outputs": [],
   "source": [
    "x=[[1,0,0],[0,1,0],[0,-1,0],[-1,0,0]]\n",
    "theta = symbols('theta')\n",
    "phi = symbols('phi')\n",
    "intermediate= directivity(x, theta, phi)\n",
    "#intermediate = simplify(intermediate)"
   ]
  },
  {
   "cell_type": "code",
   "execution_count": 7,
   "metadata": {},
   "outputs": [
    {
     "output_type": "execute_result",
     "data": {
      "text/plain": [
       "2*Limit((T*sin(100*T - 10*sqrt(2)*sqrt(-sin(phi)*sin(theta) + 1)/33 + 10/33)**2/32 + T*sin(100*T - 10*sqrt(2)*sqrt(-sin(phi)*sin(theta) + 1)/33 + 10/33)*sin(100*T - 10*sqrt(2)*sqrt(sin(phi)*sin(theta) + 1)/33 + 10*sqrt(5)/33)/16 + T*sin(100*T - 10*sqrt(2)*sqrt(-sin(phi)*sin(theta) + 1)/33 + 10/33)*sin(100*T - 10*sqrt(2)*sqrt(-sin(phi)*cos(theta) + 1)/33 + 10*sqrt(3)/33)/16 + T*sin(100*T - 10*sqrt(2)*sqrt(-sin(phi)*sin(theta) + 1)/33 + 10/33)*sin(100*T - 10*sqrt(2)*sqrt(sin(phi)*cos(theta) + 1)/33 + 10*sqrt(3)/33)/16 + T*sin(100*T + 10*sqrt(2)*sqrt(-sin(phi)*sin(theta) + 1)/33 - 10/33)**2/32 + T*sin(100*T + 10*sqrt(2)*sqrt(-sin(phi)*sin(theta) + 1)/33 - 10/33)*sin(100*T + 10*sqrt(2)*sqrt(sin(phi)*sin(theta) + 1)/33 - 10*sqrt(5)/33)/16 + T*sin(100*T + 10*sqrt(2)*sqrt(-sin(phi)*sin(theta) + 1)/33 - 10/33)*sin(100*T + 10*sqrt(2)*sqrt(-sin(phi)*cos(theta) + 1)/33 - 10*sqrt(3)/33)/16 + T*sin(100*T + 10*sqrt(2)*sqrt(-sin(phi)*sin(theta) + 1)/33 - 10/33)*sin(100*T + 10*sqrt(2)*sqrt(sin(phi)*cos(theta) + 1)/33 - 10*sqrt(3)/33)/16 + T*sin(100*T - 10*sqrt(2)*sqrt(sin(phi)*sin(theta) + 1)/33 + 10*sqrt(5)/33)**2/32 + T*sin(100*T - 10*sqrt(2)*sqrt(sin(phi)*sin(theta) + 1)/33 + 10*sqrt(5)/33)*sin(100*T - 10*sqrt(2)*sqrt(-sin(phi)*cos(theta) + 1)/33 + 10*sqrt(3)/33)/16 + T*sin(100*T - 10*sqrt(2)*sqrt(sin(phi)*sin(theta) + 1)/33 + 10*sqrt(5)/33)*sin(100*T - 10*sqrt(2)*sqrt(sin(phi)*cos(theta) + 1)/33 + 10*sqrt(3)/33)/16 + T*sin(100*T + 10*sqrt(2)*sqrt(sin(phi)*sin(theta) + 1)/33 - 10*sqrt(5)/33)**2/32 + T*sin(100*T + 10*sqrt(2)*sqrt(sin(phi)*sin(theta) + 1)/33 - 10*sqrt(5)/33)*sin(100*T + 10*sqrt(2)*sqrt(-sin(phi)*cos(theta) + 1)/33 - 10*sqrt(3)/33)/16 + T*sin(100*T + 10*sqrt(2)*sqrt(sin(phi)*sin(theta) + 1)/33 - 10*sqrt(5)/33)*sin(100*T + 10*sqrt(2)*sqrt(sin(phi)*cos(theta) + 1)/33 - 10*sqrt(3)/33)/16 + T*sin(100*T - 10*sqrt(2)*sqrt(-sin(phi)*cos(theta) + 1)/33 + 10*sqrt(3)/33)**2/32 + T*sin(100*T - 10*sqrt(2)*sqrt(-sin(phi)*cos(theta) + 1)/33 + 10*sqrt(3)/33)*sin(100*T - 10*sqrt(2)*sqrt(sin(phi)*cos(theta) + 1)/33 + 10*sqrt(3)/33)/16 + T*sin(100*T + 10*sqrt(2)*sqrt(-sin(phi)*cos(theta) + 1)/33 - 10*sqrt(3)/33)**2/32 + T*sin(100*T + 10*sqrt(2)*sqrt(-sin(phi)*cos(theta) + 1)/33 - 10*sqrt(3)/33)*sin(100*T + 10*sqrt(2)*sqrt(sin(phi)*cos(theta) + 1)/33 - 10*sqrt(3)/33)/16 + T*sin(100*T - 10*sqrt(2)*sqrt(sin(phi)*cos(theta) + 1)/33 + 10*sqrt(3)/33)**2/32 + T*sin(100*T + 10*sqrt(2)*sqrt(sin(phi)*cos(theta) + 1)/33 - 10*sqrt(3)/33)**2/32 + T*cos(100*T - 10*sqrt(2)*sqrt(-sin(phi)*sin(theta) + 1)/33 + 10/33)**2/32 + T*cos(100*T - 10*sqrt(2)*sqrt(-sin(phi)*sin(theta) + 1)/33 + 10/33)*cos(100*T - 10*sqrt(2)*sqrt(sin(phi)*sin(theta) + 1)/33 + 10*sqrt(5)/33)/16 + T*cos(100*T - 10*sqrt(2)*sqrt(-sin(phi)*sin(theta) + 1)/33 + 10/33)*cos(100*T - 10*sqrt(2)*sqrt(-sin(phi)*cos(theta) + 1)/33 + 10*sqrt(3)/33)/16 + T*cos(100*T - 10*sqrt(2)*sqrt(-sin(phi)*sin(theta) + 1)/33 + 10/33)*cos(100*T - 10*sqrt(2)*sqrt(sin(phi)*cos(theta) + 1)/33 + 10*sqrt(3)/33)/16 + T*cos(100*T + 10*sqrt(2)*sqrt(-sin(phi)*sin(theta) + 1)/33 - 10/33)**2/32 + T*cos(100*T + 10*sqrt(2)*sqrt(-sin(phi)*sin(theta) + 1)/33 - 10/33)*cos(100*T + 10*sqrt(2)*sqrt(sin(phi)*sin(theta) + 1)/33 - 10*sqrt(5)/33)/16 + T*cos(100*T + 10*sqrt(2)*sqrt(-sin(phi)*sin(theta) + 1)/33 - 10/33)*cos(100*T + 10*sqrt(2)*sqrt(-sin(phi)*cos(theta) + 1)/33 - 10*sqrt(3)/33)/16 + T*cos(100*T + 10*sqrt(2)*sqrt(-sin(phi)*sin(theta) + 1)/33 - 10/33)*cos(100*T + 10*sqrt(2)*sqrt(sin(phi)*cos(theta) + 1)/33 - 10*sqrt(3)/33)/16 + T*cos(100*T - 10*sqrt(2)*sqrt(sin(phi)*sin(theta) + 1)/33 + 10*sqrt(5)/33)**2/32 + T*cos(100*T - 10*sqrt(2)*sqrt(sin(phi)*sin(theta) + 1)/33 + 10*sqrt(5)/33)*cos(100*T - 10*sqrt(2)*sqrt(-sin(phi)*cos(theta) + 1)/33 + 10*sqrt(3)/33)/16 + T*cos(100*T - 10*sqrt(2)*sqrt(sin(phi)*sin(theta) + 1)/33 + 10*sqrt(5)/33)*cos(100*T - 10*sqrt(2)*sqrt(sin(phi)*cos(theta) + 1)/33 + 10*sqrt(3)/33)/16 + T*cos(100*T + 10*sqrt(2)*sqrt(sin(phi)*sin(theta) + 1)/33 - 10*sqrt(5)/33)**2/32 + T*cos(100*T + 10*sqrt(2)*sqrt(sin(phi)*sin(theta) + 1)/33 - 10*sqrt(5)/33)*cos(100*T + 10*sqrt(2)*sqrt(-sin(phi)*cos(theta) + 1)/33 - 10*sqrt(3)/33)/16 + T*cos(100*T + 10*sqrt(2)*sqrt(sin(phi)*sin(theta) + 1)/33 - 10*sqrt(5)/33)*cos(100*T + 10*sqrt(2)*sqrt(sin(phi)*cos(theta) + 1)/33 - 10*sqrt(3)/33)/16 + T*cos(100*T - 10*sqrt(2)*sqrt(-sin(phi)*cos(theta) + 1)/33 + 10*sqrt(3)/33)**2/32 + T*cos(100*T - 10*sqrt(2)*sqrt(-sin(phi)*cos(theta) + 1)/33 + 10*sqrt(3)/33)*cos(100*T - 10*sqrt(2)*sqrt(sin(phi)*cos(theta) + 1)/33 + 10*sqrt(3)/33)/16 + T*cos(100*T + 10*sqrt(2)*sqrt(-sin(phi)*cos(theta) + 1)/33 - 10*sqrt(3)/33)**2/32 + T*cos(100*T + 10*sqrt(2)*sqrt(-sin(phi)*cos(theta) + 1)/33 - 10*sqrt(3)/33)*cos(100*T + 10*sqrt(2)*sqrt(sin(phi)*cos(theta) + 1)/33 - 10*sqrt(3)/33)/16 + T*cos(100*T - 10*sqrt(2)*sqrt(sin(phi)*cos(theta) + 1)/33 + 10*sqrt(3)/33)**2/32 + T*cos(100*T + 10*sqrt(2)*sqrt(sin(phi)*cos(theta) + 1)/33 - 10*sqrt(3)/33)**2/32 - sin(100*T - 10*sqrt(2)*sqrt(-sin(phi)*sin(theta) + 1)/33 + 10/33)*cos(100*T - 10*sqrt(2)*sqrt(-sin(phi)*sin(theta) + 1)/33 + 10/33)/3200 - sin(100*T - 10*sqrt(2)*sqrt(-sin(phi)*sin(theta) + 1)/33 + 10/33)*cos(100*T - 10*sqrt(2)*sqrt(sin(phi)*sin(theta) + 1)/33 + 10*sqrt(5)/33)/1600 - sin(100*T - 10*sqrt(2)*sqrt(-sin(phi)*sin(theta) + 1)/33 + 10/33)*cos(100*T - 10*sqrt(2)*sqrt(sin(phi)*cos(theta) + 1)/33 + 10*sqrt(3)/33)/1600 - sin(100*T + 10*sqrt(2)*sqrt(-sin(phi)*sin(theta) + 1)/33 - 10/33)*cos(100*T + 10*sqrt(2)*sqrt(-sin(phi)*sin(theta) + 1)/33 - 10/33)/3200 - sin(100*T + 10*sqrt(2)*sqrt(-sin(phi)*sin(theta) + 1)/33 - 10/33)*cos(100*T + 10*sqrt(2)*sqrt(sin(phi)*sin(theta) + 1)/33 - 10*sqrt(5)/33)/1600 - sin(100*T + 10*sqrt(2)*sqrt(-sin(phi)*sin(theta) + 1)/33 - 10/33)*cos(100*T + 10*sqrt(2)*sqrt(sin(phi)*cos(theta) + 1)/33 - 10*sqrt(3)/33)/1600 - sin(100*T - 10*sqrt(2)*sqrt(sin(phi)*sin(theta) + 1)/33 + 10*sqrt(5)/33)*cos(100*T - 10*sqrt(2)*sqrt(sin(phi)*sin(theta) + 1)/33 + 10*sqrt(5)/33)/3200 - sin(100*T - 10*sqrt(2)*sqrt(sin(phi)*sin(theta) + 1)/33 + 10*sqrt(5)/33)*cos(100*T - 10*sqrt(2)*sqrt(sin(phi)*cos(theta) + 1)/33 + 10*sqrt(3)/33)/1600 - sin(100*T + 10*sqrt(2)*sqrt(sin(phi)*sin(theta) + 1)/33 - 10*sqrt(5)/33)*cos(100*T + 10*sqrt(2)*sqrt(sin(phi)*sin(theta) + 1)/33 - 10*sqrt(5)/33)/3200 - sin(100*T + 10*sqrt(2)*sqrt(sin(phi)*sin(theta) + 1)/33 - 10*sqrt(5)/33)*cos(100*T + 10*sqrt(2)*sqrt(sin(phi)*cos(theta) + 1)/33 - 10*sqrt(3)/33)/1600 - sin(100*T - 10*sqrt(2)*sqrt(-sin(phi)*cos(theta) + 1)/33 + 10*sqrt(3)/33)*cos(100*T - 10*sqrt(2)*sqrt(-sin(phi)*sin(theta) + 1)/33 + 10/33)/1600 - sin(100*T - 10*sqrt(2)*sqrt(-sin(phi)*cos(theta) + 1)/33 + 10*sqrt(3)/33)*cos(100*T - 10*sqrt(2)*sqrt(sin(phi)*sin(theta) + 1)/33 + 10*sqrt(5)/33)/1600 - sin(100*T - 10*sqrt(2)*sqrt(-sin(phi)*cos(theta) + 1)/33 + 10*sqrt(3)/33)*cos(100*T - 10*sqrt(2)*sqrt(-sin(phi)*cos(theta) + 1)/33 + 10*sqrt(3)/33)/3200 - sin(100*T - 10*sqrt(2)*sqrt(-sin(phi)*cos(theta) + 1)/33 + 10*sqrt(3)/33)*cos(100*T - 10*sqrt(2)*sqrt(sin(phi)*cos(theta) + 1)/33 + 10*sqrt(3)/33)/1600 - sin(100*T + 10*sqrt(2)*sqrt(-sin(phi)*cos(theta) + 1)/33 - 10*sqrt(3)/33)*cos(100*T + 10*sqrt(2)*sqrt(-sin(phi)*sin(theta) + 1)/33 - 10/33)/1600 - sin(100*T + 10*sqrt(2)*sqrt(-sin(phi)*cos(theta) + 1)/33 - 10*sqrt(3)/33)*cos(100*T + 10*sqrt(2)*sqrt(sin(phi)*sin(theta) + 1)/33 - 10*sqrt(5)/33)/1600 - sin(100*T + 10*sqrt(2)*sqrt(-sin(phi)*cos(theta) + 1)/33 - 10*sqrt(3)/33)*cos(100*T + 10*sqrt(2)*sqrt(-sin(phi)*cos(theta) + 1)/33 - 10*sqrt(3)/33)/3200 - sin(100*T + 10*sqrt(2)*sqrt(-sin(phi)*cos(theta) + 1)/33 - 10*sqrt(3)/33)*cos(100*T + 10*sqrt(2)*sqrt(sin(phi)*cos(theta) + 1)/33 - 10*sqrt(3)/33)/1600 - sin(100*T - 10*sqrt(2)*sqrt(sin(phi)*cos(theta) + 1)/33 + 10*sqrt(3)/33)*cos(100*T - 10*sqrt(2)*sqrt(sin(phi)*cos(theta) + 1)/33 + 10*sqrt(3)/33)/3200 - sin(100*T + 10*sqrt(2)*sqrt(sin(phi)*cos(theta) + 1)/33 - 10*sqrt(3)/33)*cos(100*T + 10*sqrt(2)*sqrt(sin(phi)*cos(theta) + 1)/33 - 10*sqrt(3)/33)/3200)/(2*T), T, oo, dir='-')"
      ],
      "text/latex": "$\\displaystyle 2 \\lim_{T \\to \\infty}\\left(\\frac{\\frac{T \\sin^{2}{\\left(100 T - \\frac{10 \\sqrt{2} \\sqrt{- \\sin{\\left(\\phi \\right)} \\sin{\\left(\\theta \\right)} + 1}}{33} + \\frac{10}{33} \\right)}}{32} + \\frac{T \\sin{\\left(100 T - \\frac{10 \\sqrt{2} \\sqrt{- \\sin{\\left(\\phi \\right)} \\sin{\\left(\\theta \\right)} + 1}}{33} + \\frac{10}{33} \\right)} \\sin{\\left(100 T - \\frac{10 \\sqrt{2} \\sqrt{\\sin{\\left(\\phi \\right)} \\sin{\\left(\\theta \\right)} + 1}}{33} + \\frac{10 \\sqrt{5}}{33} \\right)}}{16} + \\frac{T \\sin{\\left(100 T - \\frac{10 \\sqrt{2} \\sqrt{- \\sin{\\left(\\phi \\right)} \\sin{\\left(\\theta \\right)} + 1}}{33} + \\frac{10}{33} \\right)} \\sin{\\left(100 T - \\frac{10 \\sqrt{2} \\sqrt{- \\sin{\\left(\\phi \\right)} \\cos{\\left(\\theta \\right)} + 1}}{33} + \\frac{10 \\sqrt{3}}{33} \\right)}}{16} + \\frac{T \\sin{\\left(100 T - \\frac{10 \\sqrt{2} \\sqrt{- \\sin{\\left(\\phi \\right)} \\sin{\\left(\\theta \\right)} + 1}}{33} + \\frac{10}{33} \\right)} \\sin{\\left(100 T - \\frac{10 \\sqrt{2} \\sqrt{\\sin{\\left(\\phi \\right)} \\cos{\\left(\\theta \\right)} + 1}}{33} + \\frac{10 \\sqrt{3}}{33} \\right)}}{16} + \\frac{T \\sin^{2}{\\left(100 T + \\frac{10 \\sqrt{2} \\sqrt{- \\sin{\\left(\\phi \\right)} \\sin{\\left(\\theta \\right)} + 1}}{33} - \\frac{10}{33} \\right)}}{32} + \\frac{T \\sin{\\left(100 T + \\frac{10 \\sqrt{2} \\sqrt{- \\sin{\\left(\\phi \\right)} \\sin{\\left(\\theta \\right)} + 1}}{33} - \\frac{10}{33} \\right)} \\sin{\\left(100 T + \\frac{10 \\sqrt{2} \\sqrt{\\sin{\\left(\\phi \\right)} \\sin{\\left(\\theta \\right)} + 1}}{33} - \\frac{10 \\sqrt{5}}{33} \\right)}}{16} + \\frac{T \\sin{\\left(100 T + \\frac{10 \\sqrt{2} \\sqrt{- \\sin{\\left(\\phi \\right)} \\sin{\\left(\\theta \\right)} + 1}}{33} - \\frac{10}{33} \\right)} \\sin{\\left(100 T + \\frac{10 \\sqrt{2} \\sqrt{- \\sin{\\left(\\phi \\right)} \\cos{\\left(\\theta \\right)} + 1}}{33} - \\frac{10 \\sqrt{3}}{33} \\right)}}{16} + \\frac{T \\sin{\\left(100 T + \\frac{10 \\sqrt{2} \\sqrt{- \\sin{\\left(\\phi \\right)} \\sin{\\left(\\theta \\right)} + 1}}{33} - \\frac{10}{33} \\right)} \\sin{\\left(100 T + \\frac{10 \\sqrt{2} \\sqrt{\\sin{\\left(\\phi \\right)} \\cos{\\left(\\theta \\right)} + 1}}{33} - \\frac{10 \\sqrt{3}}{33} \\right)}}{16} + \\frac{T \\sin^{2}{\\left(100 T - \\frac{10 \\sqrt{2} \\sqrt{\\sin{\\left(\\phi \\right)} \\sin{\\left(\\theta \\right)} + 1}}{33} + \\frac{10 \\sqrt{5}}{33} \\right)}}{32} + \\frac{T \\sin{\\left(100 T - \\frac{10 \\sqrt{2} \\sqrt{\\sin{\\left(\\phi \\right)} \\sin{\\left(\\theta \\right)} + 1}}{33} + \\frac{10 \\sqrt{5}}{33} \\right)} \\sin{\\left(100 T - \\frac{10 \\sqrt{2} \\sqrt{- \\sin{\\left(\\phi \\right)} \\cos{\\left(\\theta \\right)} + 1}}{33} + \\frac{10 \\sqrt{3}}{33} \\right)}}{16} + \\frac{T \\sin{\\left(100 T - \\frac{10 \\sqrt{2} \\sqrt{\\sin{\\left(\\phi \\right)} \\sin{\\left(\\theta \\right)} + 1}}{33} + \\frac{10 \\sqrt{5}}{33} \\right)} \\sin{\\left(100 T - \\frac{10 \\sqrt{2} \\sqrt{\\sin{\\left(\\phi \\right)} \\cos{\\left(\\theta \\right)} + 1}}{33} + \\frac{10 \\sqrt{3}}{33} \\right)}}{16} + \\frac{T \\sin^{2}{\\left(100 T + \\frac{10 \\sqrt{2} \\sqrt{\\sin{\\left(\\phi \\right)} \\sin{\\left(\\theta \\right)} + 1}}{33} - \\frac{10 \\sqrt{5}}{33} \\right)}}{32} + \\frac{T \\sin{\\left(100 T + \\frac{10 \\sqrt{2} \\sqrt{\\sin{\\left(\\phi \\right)} \\sin{\\left(\\theta \\right)} + 1}}{33} - \\frac{10 \\sqrt{5}}{33} \\right)} \\sin{\\left(100 T + \\frac{10 \\sqrt{2} \\sqrt{- \\sin{\\left(\\phi \\right)} \\cos{\\left(\\theta \\right)} + 1}}{33} - \\frac{10 \\sqrt{3}}{33} \\right)}}{16} + \\frac{T \\sin{\\left(100 T + \\frac{10 \\sqrt{2} \\sqrt{\\sin{\\left(\\phi \\right)} \\sin{\\left(\\theta \\right)} + 1}}{33} - \\frac{10 \\sqrt{5}}{33} \\right)} \\sin{\\left(100 T + \\frac{10 \\sqrt{2} \\sqrt{\\sin{\\left(\\phi \\right)} \\cos{\\left(\\theta \\right)} + 1}}{33} - \\frac{10 \\sqrt{3}}{33} \\right)}}{16} + \\frac{T \\sin^{2}{\\left(100 T - \\frac{10 \\sqrt{2} \\sqrt{- \\sin{\\left(\\phi \\right)} \\cos{\\left(\\theta \\right)} + 1}}{33} + \\frac{10 \\sqrt{3}}{33} \\right)}}{32} + \\frac{T \\sin{\\left(100 T - \\frac{10 \\sqrt{2} \\sqrt{- \\sin{\\left(\\phi \\right)} \\cos{\\left(\\theta \\right)} + 1}}{33} + \\frac{10 \\sqrt{3}}{33} \\right)} \\sin{\\left(100 T - \\frac{10 \\sqrt{2} \\sqrt{\\sin{\\left(\\phi \\right)} \\cos{\\left(\\theta \\right)} + 1}}{33} + \\frac{10 \\sqrt{3}}{33} \\right)}}{16} + \\frac{T \\sin^{2}{\\left(100 T + \\frac{10 \\sqrt{2} \\sqrt{- \\sin{\\left(\\phi \\right)} \\cos{\\left(\\theta \\right)} + 1}}{33} - \\frac{10 \\sqrt{3}}{33} \\right)}}{32} + \\frac{T \\sin{\\left(100 T + \\frac{10 \\sqrt{2} \\sqrt{- \\sin{\\left(\\phi \\right)} \\cos{\\left(\\theta \\right)} + 1}}{33} - \\frac{10 \\sqrt{3}}{33} \\right)} \\sin{\\left(100 T + \\frac{10 \\sqrt{2} \\sqrt{\\sin{\\left(\\phi \\right)} \\cos{\\left(\\theta \\right)} + 1}}{33} - \\frac{10 \\sqrt{3}}{33} \\right)}}{16} + \\frac{T \\sin^{2}{\\left(100 T - \\frac{10 \\sqrt{2} \\sqrt{\\sin{\\left(\\phi \\right)} \\cos{\\left(\\theta \\right)} + 1}}{33} + \\frac{10 \\sqrt{3}}{33} \\right)}}{32} + \\frac{T \\sin^{2}{\\left(100 T + \\frac{10 \\sqrt{2} \\sqrt{\\sin{\\left(\\phi \\right)} \\cos{\\left(\\theta \\right)} + 1}}{33} - \\frac{10 \\sqrt{3}}{33} \\right)}}{32} + \\frac{T \\cos^{2}{\\left(100 T - \\frac{10 \\sqrt{2} \\sqrt{- \\sin{\\left(\\phi \\right)} \\sin{\\left(\\theta \\right)} + 1}}{33} + \\frac{10}{33} \\right)}}{32} + \\frac{T \\cos{\\left(100 T - \\frac{10 \\sqrt{2} \\sqrt{- \\sin{\\left(\\phi \\right)} \\sin{\\left(\\theta \\right)} + 1}}{33} + \\frac{10}{33} \\right)} \\cos{\\left(100 T - \\frac{10 \\sqrt{2} \\sqrt{\\sin{\\left(\\phi \\right)} \\sin{\\left(\\theta \\right)} + 1}}{33} + \\frac{10 \\sqrt{5}}{33} \\right)}}{16} + \\frac{T \\cos{\\left(100 T - \\frac{10 \\sqrt{2} \\sqrt{- \\sin{\\left(\\phi \\right)} \\sin{\\left(\\theta \\right)} + 1}}{33} + \\frac{10}{33} \\right)} \\cos{\\left(100 T - \\frac{10 \\sqrt{2} \\sqrt{- \\sin{\\left(\\phi \\right)} \\cos{\\left(\\theta \\right)} + 1}}{33} + \\frac{10 \\sqrt{3}}{33} \\right)}}{16} + \\frac{T \\cos{\\left(100 T - \\frac{10 \\sqrt{2} \\sqrt{- \\sin{\\left(\\phi \\right)} \\sin{\\left(\\theta \\right)} + 1}}{33} + \\frac{10}{33} \\right)} \\cos{\\left(100 T - \\frac{10 \\sqrt{2} \\sqrt{\\sin{\\left(\\phi \\right)} \\cos{\\left(\\theta \\right)} + 1}}{33} + \\frac{10 \\sqrt{3}}{33} \\right)}}{16} + \\frac{T \\cos^{2}{\\left(100 T + \\frac{10 \\sqrt{2} \\sqrt{- \\sin{\\left(\\phi \\right)} \\sin{\\left(\\theta \\right)} + 1}}{33} - \\frac{10}{33} \\right)}}{32} + \\frac{T \\cos{\\left(100 T + \\frac{10 \\sqrt{2} \\sqrt{- \\sin{\\left(\\phi \\right)} \\sin{\\left(\\theta \\right)} + 1}}{33} - \\frac{10}{33} \\right)} \\cos{\\left(100 T + \\frac{10 \\sqrt{2} \\sqrt{\\sin{\\left(\\phi \\right)} \\sin{\\left(\\theta \\right)} + 1}}{33} - \\frac{10 \\sqrt{5}}{33} \\right)}}{16} + \\frac{T \\cos{\\left(100 T + \\frac{10 \\sqrt{2} \\sqrt{- \\sin{\\left(\\phi \\right)} \\sin{\\left(\\theta \\right)} + 1}}{33} - \\frac{10}{33} \\right)} \\cos{\\left(100 T + \\frac{10 \\sqrt{2} \\sqrt{- \\sin{\\left(\\phi \\right)} \\cos{\\left(\\theta \\right)} + 1}}{33} - \\frac{10 \\sqrt{3}}{33} \\right)}}{16} + \\frac{T \\cos{\\left(100 T + \\frac{10 \\sqrt{2} \\sqrt{- \\sin{\\left(\\phi \\right)} \\sin{\\left(\\theta \\right)} + 1}}{33} - \\frac{10}{33} \\right)} \\cos{\\left(100 T + \\frac{10 \\sqrt{2} \\sqrt{\\sin{\\left(\\phi \\right)} \\cos{\\left(\\theta \\right)} + 1}}{33} - \\frac{10 \\sqrt{3}}{33} \\right)}}{16} + \\frac{T \\cos^{2}{\\left(100 T - \\frac{10 \\sqrt{2} \\sqrt{\\sin{\\left(\\phi \\right)} \\sin{\\left(\\theta \\right)} + 1}}{33} + \\frac{10 \\sqrt{5}}{33} \\right)}}{32} + \\frac{T \\cos{\\left(100 T - \\frac{10 \\sqrt{2} \\sqrt{\\sin{\\left(\\phi \\right)} \\sin{\\left(\\theta \\right)} + 1}}{33} + \\frac{10 \\sqrt{5}}{33} \\right)} \\cos{\\left(100 T - \\frac{10 \\sqrt{2} \\sqrt{- \\sin{\\left(\\phi \\right)} \\cos{\\left(\\theta \\right)} + 1}}{33} + \\frac{10 \\sqrt{3}}{33} \\right)}}{16} + \\frac{T \\cos{\\left(100 T - \\frac{10 \\sqrt{2} \\sqrt{\\sin{\\left(\\phi \\right)} \\sin{\\left(\\theta \\right)} + 1}}{33} + \\frac{10 \\sqrt{5}}{33} \\right)} \\cos{\\left(100 T - \\frac{10 \\sqrt{2} \\sqrt{\\sin{\\left(\\phi \\right)} \\cos{\\left(\\theta \\right)} + 1}}{33} + \\frac{10 \\sqrt{3}}{33} \\right)}}{16} + \\frac{T \\cos^{2}{\\left(100 T + \\frac{10 \\sqrt{2} \\sqrt{\\sin{\\left(\\phi \\right)} \\sin{\\left(\\theta \\right)} + 1}}{33} - \\frac{10 \\sqrt{5}}{33} \\right)}}{32} + \\frac{T \\cos{\\left(100 T + \\frac{10 \\sqrt{2} \\sqrt{\\sin{\\left(\\phi \\right)} \\sin{\\left(\\theta \\right)} + 1}}{33} - \\frac{10 \\sqrt{5}}{33} \\right)} \\cos{\\left(100 T + \\frac{10 \\sqrt{2} \\sqrt{- \\sin{\\left(\\phi \\right)} \\cos{\\left(\\theta \\right)} + 1}}{33} - \\frac{10 \\sqrt{3}}{33} \\right)}}{16} + \\frac{T \\cos{\\left(100 T + \\frac{10 \\sqrt{2} \\sqrt{\\sin{\\left(\\phi \\right)} \\sin{\\left(\\theta \\right)} + 1}}{33} - \\frac{10 \\sqrt{5}}{33} \\right)} \\cos{\\left(100 T + \\frac{10 \\sqrt{2} \\sqrt{\\sin{\\left(\\phi \\right)} \\cos{\\left(\\theta \\right)} + 1}}{33} - \\frac{10 \\sqrt{3}}{33} \\right)}}{16} + \\frac{T \\cos^{2}{\\left(100 T - \\frac{10 \\sqrt{2} \\sqrt{- \\sin{\\left(\\phi \\right)} \\cos{\\left(\\theta \\right)} + 1}}{33} + \\frac{10 \\sqrt{3}}{33} \\right)}}{32} + \\frac{T \\cos{\\left(100 T - \\frac{10 \\sqrt{2} \\sqrt{- \\sin{\\left(\\phi \\right)} \\cos{\\left(\\theta \\right)} + 1}}{33} + \\frac{10 \\sqrt{3}}{33} \\right)} \\cos{\\left(100 T - \\frac{10 \\sqrt{2} \\sqrt{\\sin{\\left(\\phi \\right)} \\cos{\\left(\\theta \\right)} + 1}}{33} + \\frac{10 \\sqrt{3}}{33} \\right)}}{16} + \\frac{T \\cos^{2}{\\left(100 T + \\frac{10 \\sqrt{2} \\sqrt{- \\sin{\\left(\\phi \\right)} \\cos{\\left(\\theta \\right)} + 1}}{33} - \\frac{10 \\sqrt{3}}{33} \\right)}}{32} + \\frac{T \\cos{\\left(100 T + \\frac{10 \\sqrt{2} \\sqrt{- \\sin{\\left(\\phi \\right)} \\cos{\\left(\\theta \\right)} + 1}}{33} - \\frac{10 \\sqrt{3}}{33} \\right)} \\cos{\\left(100 T + \\frac{10 \\sqrt{2} \\sqrt{\\sin{\\left(\\phi \\right)} \\cos{\\left(\\theta \\right)} + 1}}{33} - \\frac{10 \\sqrt{3}}{33} \\right)}}{16} + \\frac{T \\cos^{2}{\\left(100 T - \\frac{10 \\sqrt{2} \\sqrt{\\sin{\\left(\\phi \\right)} \\cos{\\left(\\theta \\right)} + 1}}{33} + \\frac{10 \\sqrt{3}}{33} \\right)}}{32} + \\frac{T \\cos^{2}{\\left(100 T + \\frac{10 \\sqrt{2} \\sqrt{\\sin{\\left(\\phi \\right)} \\cos{\\left(\\theta \\right)} + 1}}{33} - \\frac{10 \\sqrt{3}}{33} \\right)}}{32} - \\frac{\\sin{\\left(100 T - \\frac{10 \\sqrt{2} \\sqrt{- \\sin{\\left(\\phi \\right)} \\sin{\\left(\\theta \\right)} + 1}}{33} + \\frac{10}{33} \\right)} \\cos{\\left(100 T - \\frac{10 \\sqrt{2} \\sqrt{- \\sin{\\left(\\phi \\right)} \\sin{\\left(\\theta \\right)} + 1}}{33} + \\frac{10}{33} \\right)}}{3200} - \\frac{\\sin{\\left(100 T - \\frac{10 \\sqrt{2} \\sqrt{- \\sin{\\left(\\phi \\right)} \\sin{\\left(\\theta \\right)} + 1}}{33} + \\frac{10}{33} \\right)} \\cos{\\left(100 T - \\frac{10 \\sqrt{2} \\sqrt{\\sin{\\left(\\phi \\right)} \\sin{\\left(\\theta \\right)} + 1}}{33} + \\frac{10 \\sqrt{5}}{33} \\right)}}{1600} - \\frac{\\sin{\\left(100 T - \\frac{10 \\sqrt{2} \\sqrt{- \\sin{\\left(\\phi \\right)} \\sin{\\left(\\theta \\right)} + 1}}{33} + \\frac{10}{33} \\right)} \\cos{\\left(100 T - \\frac{10 \\sqrt{2} \\sqrt{\\sin{\\left(\\phi \\right)} \\cos{\\left(\\theta \\right)} + 1}}{33} + \\frac{10 \\sqrt{3}}{33} \\right)}}{1600} - \\frac{\\sin{\\left(100 T + \\frac{10 \\sqrt{2} \\sqrt{- \\sin{\\left(\\phi \\right)} \\sin{\\left(\\theta \\right)} + 1}}{33} - \\frac{10}{33} \\right)} \\cos{\\left(100 T + \\frac{10 \\sqrt{2} \\sqrt{- \\sin{\\left(\\phi \\right)} \\sin{\\left(\\theta \\right)} + 1}}{33} - \\frac{10}{33} \\right)}}{3200} - \\frac{\\sin{\\left(100 T + \\frac{10 \\sqrt{2} \\sqrt{- \\sin{\\left(\\phi \\right)} \\sin{\\left(\\theta \\right)} + 1}}{33} - \\frac{10}{33} \\right)} \\cos{\\left(100 T + \\frac{10 \\sqrt{2} \\sqrt{\\sin{\\left(\\phi \\right)} \\sin{\\left(\\theta \\right)} + 1}}{33} - \\frac{10 \\sqrt{5}}{33} \\right)}}{1600} - \\frac{\\sin{\\left(100 T + \\frac{10 \\sqrt{2} \\sqrt{- \\sin{\\left(\\phi \\right)} \\sin{\\left(\\theta \\right)} + 1}}{33} - \\frac{10}{33} \\right)} \\cos{\\left(100 T + \\frac{10 \\sqrt{2} \\sqrt{\\sin{\\left(\\phi \\right)} \\cos{\\left(\\theta \\right)} + 1}}{33} - \\frac{10 \\sqrt{3}}{33} \\right)}}{1600} - \\frac{\\sin{\\left(100 T - \\frac{10 \\sqrt{2} \\sqrt{\\sin{\\left(\\phi \\right)} \\sin{\\left(\\theta \\right)} + 1}}{33} + \\frac{10 \\sqrt{5}}{33} \\right)} \\cos{\\left(100 T - \\frac{10 \\sqrt{2} \\sqrt{\\sin{\\left(\\phi \\right)} \\sin{\\left(\\theta \\right)} + 1}}{33} + \\frac{10 \\sqrt{5}}{33} \\right)}}{3200} - \\frac{\\sin{\\left(100 T - \\frac{10 \\sqrt{2} \\sqrt{\\sin{\\left(\\phi \\right)} \\sin{\\left(\\theta \\right)} + 1}}{33} + \\frac{10 \\sqrt{5}}{33} \\right)} \\cos{\\left(100 T - \\frac{10 \\sqrt{2} \\sqrt{\\sin{\\left(\\phi \\right)} \\cos{\\left(\\theta \\right)} + 1}}{33} + \\frac{10 \\sqrt{3}}{33} \\right)}}{1600} - \\frac{\\sin{\\left(100 T + \\frac{10 \\sqrt{2} \\sqrt{\\sin{\\left(\\phi \\right)} \\sin{\\left(\\theta \\right)} + 1}}{33} - \\frac{10 \\sqrt{5}}{33} \\right)} \\cos{\\left(100 T + \\frac{10 \\sqrt{2} \\sqrt{\\sin{\\left(\\phi \\right)} \\sin{\\left(\\theta \\right)} + 1}}{33} - \\frac{10 \\sqrt{5}}{33} \\right)}}{3200} - \\frac{\\sin{\\left(100 T + \\frac{10 \\sqrt{2} \\sqrt{\\sin{\\left(\\phi \\right)} \\sin{\\left(\\theta \\right)} + 1}}{33} - \\frac{10 \\sqrt{5}}{33} \\right)} \\cos{\\left(100 T + \\frac{10 \\sqrt{2} \\sqrt{\\sin{\\left(\\phi \\right)} \\cos{\\left(\\theta \\right)} + 1}}{33} - \\frac{10 \\sqrt{3}}{33} \\right)}}{1600} - \\frac{\\sin{\\left(100 T - \\frac{10 \\sqrt{2} \\sqrt{- \\sin{\\left(\\phi \\right)} \\cos{\\left(\\theta \\right)} + 1}}{33} + \\frac{10 \\sqrt{3}}{33} \\right)} \\cos{\\left(100 T - \\frac{10 \\sqrt{2} \\sqrt{- \\sin{\\left(\\phi \\right)} \\sin{\\left(\\theta \\right)} + 1}}{33} + \\frac{10}{33} \\right)}}{1600} - \\frac{\\sin{\\left(100 T - \\frac{10 \\sqrt{2} \\sqrt{- \\sin{\\left(\\phi \\right)} \\cos{\\left(\\theta \\right)} + 1}}{33} + \\frac{10 \\sqrt{3}}{33} \\right)} \\cos{\\left(100 T - \\frac{10 \\sqrt{2} \\sqrt{\\sin{\\left(\\phi \\right)} \\sin{\\left(\\theta \\right)} + 1}}{33} + \\frac{10 \\sqrt{5}}{33} \\right)}}{1600} - \\frac{\\sin{\\left(100 T - \\frac{10 \\sqrt{2} \\sqrt{- \\sin{\\left(\\phi \\right)} \\cos{\\left(\\theta \\right)} + 1}}{33} + \\frac{10 \\sqrt{3}}{33} \\right)} \\cos{\\left(100 T - \\frac{10 \\sqrt{2} \\sqrt{- \\sin{\\left(\\phi \\right)} \\cos{\\left(\\theta \\right)} + 1}}{33} + \\frac{10 \\sqrt{3}}{33} \\right)}}{3200} - \\frac{\\sin{\\left(100 T - \\frac{10 \\sqrt{2} \\sqrt{- \\sin{\\left(\\phi \\right)} \\cos{\\left(\\theta \\right)} + 1}}{33} + \\frac{10 \\sqrt{3}}{33} \\right)} \\cos{\\left(100 T - \\frac{10 \\sqrt{2} \\sqrt{\\sin{\\left(\\phi \\right)} \\cos{\\left(\\theta \\right)} + 1}}{33} + \\frac{10 \\sqrt{3}}{33} \\right)}}{1600} - \\frac{\\sin{\\left(100 T + \\frac{10 \\sqrt{2} \\sqrt{- \\sin{\\left(\\phi \\right)} \\cos{\\left(\\theta \\right)} + 1}}{33} - \\frac{10 \\sqrt{3}}{33} \\right)} \\cos{\\left(100 T + \\frac{10 \\sqrt{2} \\sqrt{- \\sin{\\left(\\phi \\right)} \\sin{\\left(\\theta \\right)} + 1}}{33} - \\frac{10}{33} \\right)}}{1600} - \\frac{\\sin{\\left(100 T + \\frac{10 \\sqrt{2} \\sqrt{- \\sin{\\left(\\phi \\right)} \\cos{\\left(\\theta \\right)} + 1}}{33} - \\frac{10 \\sqrt{3}}{33} \\right)} \\cos{\\left(100 T + \\frac{10 \\sqrt{2} \\sqrt{\\sin{\\left(\\phi \\right)} \\sin{\\left(\\theta \\right)} + 1}}{33} - \\frac{10 \\sqrt{5}}{33} \\right)}}{1600} - \\frac{\\sin{\\left(100 T + \\frac{10 \\sqrt{2} \\sqrt{- \\sin{\\left(\\phi \\right)} \\cos{\\left(\\theta \\right)} + 1}}{33} - \\frac{10 \\sqrt{3}}{33} \\right)} \\cos{\\left(100 T + \\frac{10 \\sqrt{2} \\sqrt{- \\sin{\\left(\\phi \\right)} \\cos{\\left(\\theta \\right)} + 1}}{33} - \\frac{10 \\sqrt{3}}{33} \\right)}}{3200} - \\frac{\\sin{\\left(100 T + \\frac{10 \\sqrt{2} \\sqrt{- \\sin{\\left(\\phi \\right)} \\cos{\\left(\\theta \\right)} + 1}}{33} - \\frac{10 \\sqrt{3}}{33} \\right)} \\cos{\\left(100 T + \\frac{10 \\sqrt{2} \\sqrt{\\sin{\\left(\\phi \\right)} \\cos{\\left(\\theta \\right)} + 1}}{33} - \\frac{10 \\sqrt{3}}{33} \\right)}}{1600} - \\frac{\\sin{\\left(100 T - \\frac{10 \\sqrt{2} \\sqrt{\\sin{\\left(\\phi \\right)} \\cos{\\left(\\theta \\right)} + 1}}{33} + \\frac{10 \\sqrt{3}}{33} \\right)} \\cos{\\left(100 T - \\frac{10 \\sqrt{2} \\sqrt{\\sin{\\left(\\phi \\right)} \\cos{\\left(\\theta \\right)} + 1}}{33} + \\frac{10 \\sqrt{3}}{33} \\right)}}{3200} - \\frac{\\sin{\\left(100 T + \\frac{10 \\sqrt{2} \\sqrt{\\sin{\\left(\\phi \\right)} \\cos{\\left(\\theta \\right)} + 1}}{33} - \\frac{10 \\sqrt{3}}{33} \\right)} \\cos{\\left(100 T + \\frac{10 \\sqrt{2} \\sqrt{\\sin{\\left(\\phi \\right)} \\cos{\\left(\\theta \\right)} + 1}}{33} - \\frac{10 \\sqrt{3}}{33} \\right)}}{3200}}{2 T}\\right)$"
     },
     "metadata": {},
     "execution_count": 7
    }
   ],
   "source": [
    "intermediate"
   ]
  },
  {
   "cell_type": "code",
   "execution_count": null,
   "metadata": {},
   "outputs": [],
   "source": []
  }
 ]
}