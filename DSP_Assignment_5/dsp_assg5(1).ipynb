{
  "nbformat": 4,
  "nbformat_minor": 0,
  "metadata": {
    "colab": {
      "name": "dsp_assg5.ipynb",
      "provenance": [],
      "collapsed_sections": []
    },
    "kernelspec": {
      "name": "python3",
      "display_name": "Python 3"
    },
    "language_info": {
      "name": "python"
    }
  },
  "cells": [
    {
      "cell_type": "code",
      "metadata": {
        "id": "GtxXyslL_cDe"
      },
      "source": [
        "from sympy import *\n",
        "\n",
        "def directivity(x, theta, phi):\n",
        "# def directivity():\n",
        "\n",
        "  n = len(x)  #number of sensors\n",
        "  # n = 2  #number of sensors\n",
        "  omega = 100\n",
        "  t, T = symbols('t T')\n",
        "  c = 330\n",
        "  R = 1\n",
        "    \n",
        "  s1 = R*cos(theta)*sin(phi)\n",
        "  s2 = R*sin(theta)*sin(phi)\n",
        "  s3 = R*cos(phi)\n",
        "\n",
        "  source = [s1,s2,s3]\n",
        "  #source = [1/sqrt(2),1/sqrt(2),0]\n",
        "\n",
        "  signal = sin(omega*t)\n",
        "  original_power_expr = (1/(2*T))*integrate(signal*signal, (t, -T, T))\n",
        "  original_power = limit(original_power_expr, T, oo)\n",
        "  print(\"original_power: \", original_power)\n",
        "\n",
        "  #find the expression for the average signal\n",
        "  #d0 = sqrt((x[0][0]-source[0])**2 + (x[0][1]-source[1])**2 + (x[0][2]-source[2])**2)\n",
        "  average_signal_expr = 0\n",
        "  for i in range(n):\n",
        "    dk = sqrt(Pow((x[i][0]-source[0]),2) + Pow((x[i][1]-source[1]),2) + Pow((x[i][2]-source[2]),2))\n",
        "    d0 = sqrt(Pow(x[i][0]-0,2) + Pow(x[i][1]-1,2) + Pow(x[i][2]-1,2))\n",
        "\n",
        "    print('d0, dk:', d0, dk)\n",
        "    average_signal_expr = average_signal_expr + sin(omega * (t - (dk-d0)/c))\n",
        "\n",
        "  average_signal_expr = average_signal_expr/n\n",
        "  print(\"average_signal_expr: \", simplify(average_signal_expr))\n",
        "\n",
        "  average_power_integral_expr = (1/(2*T))*integrate(simplify(Pow(average_signal_expr,2)), (t, -T, T))\n",
        "  average_power = limit(average_power_integral_expr, T, oo)\n",
        "  print(\"average_power: \", average_power)\n",
        "\n",
        "  return average_power/original_power"
      ],
      "execution_count": 24,
      "outputs": []
    },
    {
      "cell_type": "code",
      "metadata": {
        "colab": {
          "base_uri": "https://localhost:8080/"
        },
        "id": "a3OSsUlwm6mU",
        "outputId": "d936db29-8442-459c-8f03-899e62818339"
      },
      "source": [
        "x=[[1,0,0],[0,1,0],[0,-1,0],[-1,0,0]] #locations of the microphones\n",
        "# x=[[0,1,0],[0,1,1],[1,1,1],[1,1,0]]  \n",
        "# x=[[0,1,0],[0,1,1]]  \n",
        "theta = symbols('theta')\n",
        "phi = symbols('phi')\n",
        "\n",
        "intermediate = directivity(x, theta, phi)\n",
        "print('directivity: ', intermediate)"
      ],
      "execution_count": 25,
      "outputs": [
        {
          "output_type": "stream",
          "text": [
            "original_power:  1/2\n",
            "d0, dk: sqrt(3) sqrt((-sin(phi)*cos(theta) + 1)**2 + sin(phi)**2*sin(theta)**2 + cos(phi)**2)\n",
            "d0, dk: 1 sqrt((-sin(phi)*sin(theta) + 1)**2 + sin(phi)**2*cos(theta)**2 + cos(phi)**2)\n",
            "d0, dk: sqrt(5) sqrt((-sin(phi)*sin(theta) - 1)**2 + sin(phi)**2*cos(theta)**2 + cos(phi)**2)\n",
            "d0, dk: sqrt(3) sqrt((-sin(phi)*cos(theta) - 1)**2 + sin(phi)**2*sin(theta)**2 + cos(phi)**2)\n",
            "average_signal_expr:  sin(100*t - 10*sqrt(2)*sqrt(-sin(phi)*sin(theta) + 1)/33 + 10/33)/4 + sin(100*t - 10*sqrt(2)*sqrt(sin(phi)*sin(theta) + 1)/33 + 10*sqrt(5)/33)/4 + sin(100*t - 10*sqrt(2)*sqrt(-sin(phi)*cos(theta) + 1)/33 + 10*sqrt(3)/33)/4 + sin(100*t - 10*sqrt(2)*sqrt(sin(phi)*cos(theta) + 1)/33 + 10*sqrt(3)/33)/4\n",
            "average_power:  Limit((T*sin(100*T - 10*sqrt(2)*sqrt(-sin(phi)*sin(theta) + 1)/33 + 10/33)**2/32 + T*sin(100*T - 10*sqrt(2)*sqrt(-sin(phi)*sin(theta) + 1)/33 + 10/33)*sin(100*T - 10*sqrt(2)*sqrt(sin(phi)*sin(theta) + 1)/33 + 10*sqrt(5)/33)/16 + T*sin(100*T - 10*sqrt(2)*sqrt(-sin(phi)*sin(theta) + 1)/33 + 10/33)*sin(100*T - 10*sqrt(2)*sqrt(-sin(phi)*cos(theta) + 1)/33 + 10*sqrt(3)/33)/16 + T*sin(100*T - 10*sqrt(2)*sqrt(-sin(phi)*sin(theta) + 1)/33 + 10/33)*sin(100*T - 10*sqrt(2)*sqrt(sin(phi)*cos(theta) + 1)/33 + 10*sqrt(3)/33)/16 + T*sin(100*T + 10*sqrt(2)*sqrt(-sin(phi)*sin(theta) + 1)/33 - 10/33)**2/32 + T*sin(100*T + 10*sqrt(2)*sqrt(-sin(phi)*sin(theta) + 1)/33 - 10/33)*sin(100*T + 10*sqrt(2)*sqrt(sin(phi)*sin(theta) + 1)/33 - 10*sqrt(5)/33)/16 + T*sin(100*T + 10*sqrt(2)*sqrt(-sin(phi)*sin(theta) + 1)/33 - 10/33)*sin(100*T + 10*sqrt(2)*sqrt(-sin(phi)*cos(theta) + 1)/33 - 10*sqrt(3)/33)/16 + T*sin(100*T + 10*sqrt(2)*sqrt(-sin(phi)*sin(theta) + 1)/33 - 10/33)*sin(100*T + 10*sqrt(2)*sqrt(sin(phi)*cos(theta) + 1)/33 - 10*sqrt(3)/33)/16 + T*sin(100*T - 10*sqrt(2)*sqrt(sin(phi)*sin(theta) + 1)/33 + 10*sqrt(5)/33)**2/32 + T*sin(100*T - 10*sqrt(2)*sqrt(sin(phi)*sin(theta) + 1)/33 + 10*sqrt(5)/33)*sin(100*T - 10*sqrt(2)*sqrt(-sin(phi)*cos(theta) + 1)/33 + 10*sqrt(3)/33)/16 + T*sin(100*T - 10*sqrt(2)*sqrt(sin(phi)*sin(theta) + 1)/33 + 10*sqrt(5)/33)*sin(100*T - 10*sqrt(2)*sqrt(sin(phi)*cos(theta) + 1)/33 + 10*sqrt(3)/33)/16 + T*sin(100*T + 10*sqrt(2)*sqrt(sin(phi)*sin(theta) + 1)/33 - 10*sqrt(5)/33)**2/32 + T*sin(100*T + 10*sqrt(2)*sqrt(sin(phi)*sin(theta) + 1)/33 - 10*sqrt(5)/33)*sin(100*T + 10*sqrt(2)*sqrt(-sin(phi)*cos(theta) + 1)/33 - 10*sqrt(3)/33)/16 + T*sin(100*T + 10*sqrt(2)*sqrt(sin(phi)*sin(theta) + 1)/33 - 10*sqrt(5)/33)*sin(100*T + 10*sqrt(2)*sqrt(sin(phi)*cos(theta) + 1)/33 - 10*sqrt(3)/33)/16 + T*sin(100*T - 10*sqrt(2)*sqrt(-sin(phi)*cos(theta) + 1)/33 + 10*sqrt(3)/33)**2/32 + T*sin(100*T - 10*sqrt(2)*sqrt(-sin(phi)*cos(theta) + 1)/33 + 10*sqrt(3)/33)*sin(100*T - 10*sqrt(2)*sqrt(sin(phi)*cos(theta) + 1)/33 + 10*sqrt(3)/33)/16 + T*sin(100*T + 10*sqrt(2)*sqrt(-sin(phi)*cos(theta) + 1)/33 - 10*sqrt(3)/33)**2/32 + T*sin(100*T + 10*sqrt(2)*sqrt(-sin(phi)*cos(theta) + 1)/33 - 10*sqrt(3)/33)*sin(100*T + 10*sqrt(2)*sqrt(sin(phi)*cos(theta) + 1)/33 - 10*sqrt(3)/33)/16 + T*sin(100*T - 10*sqrt(2)*sqrt(sin(phi)*cos(theta) + 1)/33 + 10*sqrt(3)/33)**2/32 + T*sin(100*T + 10*sqrt(2)*sqrt(sin(phi)*cos(theta) + 1)/33 - 10*sqrt(3)/33)**2/32 + T*cos(100*T - 10*sqrt(2)*sqrt(-sin(phi)*sin(theta) + 1)/33 + 10/33)**2/32 + T*cos(100*T - 10*sqrt(2)*sqrt(-sin(phi)*sin(theta) + 1)/33 + 10/33)*cos(100*T - 10*sqrt(2)*sqrt(sin(phi)*sin(theta) + 1)/33 + 10*sqrt(5)/33)/16 + T*cos(100*T - 10*sqrt(2)*sqrt(-sin(phi)*sin(theta) + 1)/33 + 10/33)*cos(100*T - 10*sqrt(2)*sqrt(-sin(phi)*cos(theta) + 1)/33 + 10*sqrt(3)/33)/16 + T*cos(100*T - 10*sqrt(2)*sqrt(-sin(phi)*sin(theta) + 1)/33 + 10/33)*cos(100*T - 10*sqrt(2)*sqrt(sin(phi)*cos(theta) + 1)/33 + 10*sqrt(3)/33)/16 + T*cos(100*T + 10*sqrt(2)*sqrt(-sin(phi)*sin(theta) + 1)/33 - 10/33)**2/32 + T*cos(100*T + 10*sqrt(2)*sqrt(-sin(phi)*sin(theta) + 1)/33 - 10/33)*cos(100*T + 10*sqrt(2)*sqrt(sin(phi)*sin(theta) + 1)/33 - 10*sqrt(5)/33)/16 + T*cos(100*T + 10*sqrt(2)*sqrt(-sin(phi)*sin(theta) + 1)/33 - 10/33)*cos(100*T + 10*sqrt(2)*sqrt(-sin(phi)*cos(theta) + 1)/33 - 10*sqrt(3)/33)/16 + T*cos(100*T + 10*sqrt(2)*sqrt(-sin(phi)*sin(theta) + 1)/33 - 10/33)*cos(100*T + 10*sqrt(2)*sqrt(sin(phi)*cos(theta) + 1)/33 - 10*sqrt(3)/33)/16 + T*cos(100*T - 10*sqrt(2)*sqrt(sin(phi)*sin(theta) + 1)/33 + 10*sqrt(5)/33)**2/32 + T*cos(100*T - 10*sqrt(2)*sqrt(sin(phi)*sin(theta) + 1)/33 + 10*sqrt(5)/33)*cos(100*T - 10*sqrt(2)*sqrt(-sin(phi)*cos(theta) + 1)/33 + 10*sqrt(3)/33)/16 + T*cos(100*T - 10*sqrt(2)*sqrt(sin(phi)*sin(theta) + 1)/33 + 10*sqrt(5)/33)*cos(100*T - 10*sqrt(2)*sqrt(sin(phi)*cos(theta) + 1)/33 + 10*sqrt(3)/33)/16 + T*cos(100*T + 10*sqrt(2)*sqrt(sin(phi)*sin(theta) + 1)/33 - 10*sqrt(5)/33)**2/32 + T*cos(100*T + 10*sqrt(2)*sqrt(sin(phi)*sin(theta) + 1)/33 - 10*sqrt(5)/33)*cos(100*T + 10*sqrt(2)*sqrt(-sin(phi)*cos(theta) + 1)/33 - 10*sqrt(3)/33)/16 + T*cos(100*T + 10*sqrt(2)*sqrt(sin(phi)*sin(theta) + 1)/33 - 10*sqrt(5)/33)*cos(100*T + 10*sqrt(2)*sqrt(sin(phi)*cos(theta) + 1)/33 - 10*sqrt(3)/33)/16 + T*cos(100*T - 10*sqrt(2)*sqrt(-sin(phi)*cos(theta) + 1)/33 + 10*sqrt(3)/33)**2/32 + T*cos(100*T - 10*sqrt(2)*sqrt(-sin(phi)*cos(theta) + 1)/33 + 10*sqrt(3)/33)*cos(100*T - 10*sqrt(2)*sqrt(sin(phi)*cos(theta) + 1)/33 + 10*sqrt(3)/33)/16 + T*cos(100*T + 10*sqrt(2)*sqrt(-sin(phi)*cos(theta) + 1)/33 - 10*sqrt(3)/33)**2/32 + T*cos(100*T + 10*sqrt(2)*sqrt(-sin(phi)*cos(theta) + 1)/33 - 10*sqrt(3)/33)*cos(100*T + 10*sqrt(2)*sqrt(sin(phi)*cos(theta) + 1)/33 - 10*sqrt(3)/33)/16 + T*cos(100*T - 10*sqrt(2)*sqrt(sin(phi)*cos(theta) + 1)/33 + 10*sqrt(3)/33)**2/32 + T*cos(100*T + 10*sqrt(2)*sqrt(sin(phi)*cos(theta) + 1)/33 - 10*sqrt(3)/33)**2/32 - sin(100*T - 10*sqrt(2)*sqrt(-sin(phi)*sin(theta) + 1)/33 + 10/33)*cos(100*T - 10*sqrt(2)*sqrt(-sin(phi)*sin(theta) + 1)/33 + 10/33)/3200 - sin(100*T - 10*sqrt(2)*sqrt(-sin(phi)*sin(theta) + 1)/33 + 10/33)*cos(100*T - 10*sqrt(2)*sqrt(-sin(phi)*cos(theta) + 1)/33 + 10*sqrt(3)/33)/1600 - sin(100*T + 10*sqrt(2)*sqrt(-sin(phi)*sin(theta) + 1)/33 - 10/33)*cos(100*T + 10*sqrt(2)*sqrt(-sin(phi)*sin(theta) + 1)/33 - 10/33)/3200 - sin(100*T + 10*sqrt(2)*sqrt(-sin(phi)*sin(theta) + 1)/33 - 10/33)*cos(100*T + 10*sqrt(2)*sqrt(-sin(phi)*cos(theta) + 1)/33 - 10*sqrt(3)/33)/1600 - sin(100*T - 10*sqrt(2)*sqrt(sin(phi)*sin(theta) + 1)/33 + 10*sqrt(5)/33)*cos(100*T - 10*sqrt(2)*sqrt(-sin(phi)*sin(theta) + 1)/33 + 10/33)/1600 - sin(100*T - 10*sqrt(2)*sqrt(sin(phi)*sin(theta) + 1)/33 + 10*sqrt(5)/33)*cos(100*T - 10*sqrt(2)*sqrt(sin(phi)*sin(theta) + 1)/33 + 10*sqrt(5)/33)/3200 - sin(100*T - 10*sqrt(2)*sqrt(sin(phi)*sin(theta) + 1)/33 + 10*sqrt(5)/33)*cos(100*T - 10*sqrt(2)*sqrt(-sin(phi)*cos(theta) + 1)/33 + 10*sqrt(3)/33)/1600 - sin(100*T - 10*sqrt(2)*sqrt(sin(phi)*sin(theta) + 1)/33 + 10*sqrt(5)/33)*cos(100*T - 10*sqrt(2)*sqrt(sin(phi)*cos(theta) + 1)/33 + 10*sqrt(3)/33)/1600 - sin(100*T + 10*sqrt(2)*sqrt(sin(phi)*sin(theta) + 1)/33 - 10*sqrt(5)/33)*cos(100*T + 10*sqrt(2)*sqrt(-sin(phi)*sin(theta) + 1)/33 - 10/33)/1600 - sin(100*T + 10*sqrt(2)*sqrt(sin(phi)*sin(theta) + 1)/33 - 10*sqrt(5)/33)*cos(100*T + 10*sqrt(2)*sqrt(sin(phi)*sin(theta) + 1)/33 - 10*sqrt(5)/33)/3200 - sin(100*T + 10*sqrt(2)*sqrt(sin(phi)*sin(theta) + 1)/33 - 10*sqrt(5)/33)*cos(100*T + 10*sqrt(2)*sqrt(-sin(phi)*cos(theta) + 1)/33 - 10*sqrt(3)/33)/1600 - sin(100*T + 10*sqrt(2)*sqrt(sin(phi)*sin(theta) + 1)/33 - 10*sqrt(5)/33)*cos(100*T + 10*sqrt(2)*sqrt(sin(phi)*cos(theta) + 1)/33 - 10*sqrt(3)/33)/1600 - sin(100*T - 10*sqrt(2)*sqrt(-sin(phi)*cos(theta) + 1)/33 + 10*sqrt(3)/33)*cos(100*T - 10*sqrt(2)*sqrt(-sin(phi)*cos(theta) + 1)/33 + 10*sqrt(3)/33)/3200 - sin(100*T + 10*sqrt(2)*sqrt(-sin(phi)*cos(theta) + 1)/33 - 10*sqrt(3)/33)*cos(100*T + 10*sqrt(2)*sqrt(-sin(phi)*cos(theta) + 1)/33 - 10*sqrt(3)/33)/3200 - sin(100*T - 10*sqrt(2)*sqrt(sin(phi)*cos(theta) + 1)/33 + 10*sqrt(3)/33)*cos(100*T - 10*sqrt(2)*sqrt(-sin(phi)*sin(theta) + 1)/33 + 10/33)/1600 - sin(100*T - 10*sqrt(2)*sqrt(sin(phi)*cos(theta) + 1)/33 + 10*sqrt(3)/33)*cos(100*T - 10*sqrt(2)*sqrt(-sin(phi)*cos(theta) + 1)/33 + 10*sqrt(3)/33)/1600 - sin(100*T - 10*sqrt(2)*sqrt(sin(phi)*cos(theta) + 1)/33 + 10*sqrt(3)/33)*cos(100*T - 10*sqrt(2)*sqrt(sin(phi)*cos(theta) + 1)/33 + 10*sqrt(3)/33)/3200 - sin(100*T + 10*sqrt(2)*sqrt(sin(phi)*cos(theta) + 1)/33 - 10*sqrt(3)/33)*cos(100*T + 10*sqrt(2)*sqrt(-sin(phi)*sin(theta) + 1)/33 - 10/33)/1600 - sin(100*T + 10*sqrt(2)*sqrt(sin(phi)*cos(theta) + 1)/33 - 10*sqrt(3)/33)*cos(100*T + 10*sqrt(2)*sqrt(-sin(phi)*cos(theta) + 1)/33 - 10*sqrt(3)/33)/1600 - sin(100*T + 10*sqrt(2)*sqrt(sin(phi)*cos(theta) + 1)/33 - 10*sqrt(3)/33)*cos(100*T + 10*sqrt(2)*sqrt(sin(phi)*cos(theta) + 1)/33 - 10*sqrt(3)/33)/3200)/(2*T), T, oo, dir='-')\n",
            "directivity:  2*Limit((T*sin(100*T - 10*sqrt(2)*sqrt(-sin(phi)*sin(theta) + 1)/33 + 10/33)**2/32 + T*sin(100*T - 10*sqrt(2)*sqrt(-sin(phi)*sin(theta) + 1)/33 + 10/33)*sin(100*T - 10*sqrt(2)*sqrt(sin(phi)*sin(theta) + 1)/33 + 10*sqrt(5)/33)/16 + T*sin(100*T - 10*sqrt(2)*sqrt(-sin(phi)*sin(theta) + 1)/33 + 10/33)*sin(100*T - 10*sqrt(2)*sqrt(-sin(phi)*cos(theta) + 1)/33 + 10*sqrt(3)/33)/16 + T*sin(100*T - 10*sqrt(2)*sqrt(-sin(phi)*sin(theta) + 1)/33 + 10/33)*sin(100*T - 10*sqrt(2)*sqrt(sin(phi)*cos(theta) + 1)/33 + 10*sqrt(3)/33)/16 + T*sin(100*T + 10*sqrt(2)*sqrt(-sin(phi)*sin(theta) + 1)/33 - 10/33)**2/32 + T*sin(100*T + 10*sqrt(2)*sqrt(-sin(phi)*sin(theta) + 1)/33 - 10/33)*sin(100*T + 10*sqrt(2)*sqrt(sin(phi)*sin(theta) + 1)/33 - 10*sqrt(5)/33)/16 + T*sin(100*T + 10*sqrt(2)*sqrt(-sin(phi)*sin(theta) + 1)/33 - 10/33)*sin(100*T + 10*sqrt(2)*sqrt(-sin(phi)*cos(theta) + 1)/33 - 10*sqrt(3)/33)/16 + T*sin(100*T + 10*sqrt(2)*sqrt(-sin(phi)*sin(theta) + 1)/33 - 10/33)*sin(100*T + 10*sqrt(2)*sqrt(sin(phi)*cos(theta) + 1)/33 - 10*sqrt(3)/33)/16 + T*sin(100*T - 10*sqrt(2)*sqrt(sin(phi)*sin(theta) + 1)/33 + 10*sqrt(5)/33)**2/32 + T*sin(100*T - 10*sqrt(2)*sqrt(sin(phi)*sin(theta) + 1)/33 + 10*sqrt(5)/33)*sin(100*T - 10*sqrt(2)*sqrt(-sin(phi)*cos(theta) + 1)/33 + 10*sqrt(3)/33)/16 + T*sin(100*T - 10*sqrt(2)*sqrt(sin(phi)*sin(theta) + 1)/33 + 10*sqrt(5)/33)*sin(100*T - 10*sqrt(2)*sqrt(sin(phi)*cos(theta) + 1)/33 + 10*sqrt(3)/33)/16 + T*sin(100*T + 10*sqrt(2)*sqrt(sin(phi)*sin(theta) + 1)/33 - 10*sqrt(5)/33)**2/32 + T*sin(100*T + 10*sqrt(2)*sqrt(sin(phi)*sin(theta) + 1)/33 - 10*sqrt(5)/33)*sin(100*T + 10*sqrt(2)*sqrt(-sin(phi)*cos(theta) + 1)/33 - 10*sqrt(3)/33)/16 + T*sin(100*T + 10*sqrt(2)*sqrt(sin(phi)*sin(theta) + 1)/33 - 10*sqrt(5)/33)*sin(100*T + 10*sqrt(2)*sqrt(sin(phi)*cos(theta) + 1)/33 - 10*sqrt(3)/33)/16 + T*sin(100*T - 10*sqrt(2)*sqrt(-sin(phi)*cos(theta) + 1)/33 + 10*sqrt(3)/33)**2/32 + T*sin(100*T - 10*sqrt(2)*sqrt(-sin(phi)*cos(theta) + 1)/33 + 10*sqrt(3)/33)*sin(100*T - 10*sqrt(2)*sqrt(sin(phi)*cos(theta) + 1)/33 + 10*sqrt(3)/33)/16 + T*sin(100*T + 10*sqrt(2)*sqrt(-sin(phi)*cos(theta) + 1)/33 - 10*sqrt(3)/33)**2/32 + T*sin(100*T + 10*sqrt(2)*sqrt(-sin(phi)*cos(theta) + 1)/33 - 10*sqrt(3)/33)*sin(100*T + 10*sqrt(2)*sqrt(sin(phi)*cos(theta) + 1)/33 - 10*sqrt(3)/33)/16 + T*sin(100*T - 10*sqrt(2)*sqrt(sin(phi)*cos(theta) + 1)/33 + 10*sqrt(3)/33)**2/32 + T*sin(100*T + 10*sqrt(2)*sqrt(sin(phi)*cos(theta) + 1)/33 - 10*sqrt(3)/33)**2/32 + T*cos(100*T - 10*sqrt(2)*sqrt(-sin(phi)*sin(theta) + 1)/33 + 10/33)**2/32 + T*cos(100*T - 10*sqrt(2)*sqrt(-sin(phi)*sin(theta) + 1)/33 + 10/33)*cos(100*T - 10*sqrt(2)*sqrt(sin(phi)*sin(theta) + 1)/33 + 10*sqrt(5)/33)/16 + T*cos(100*T - 10*sqrt(2)*sqrt(-sin(phi)*sin(theta) + 1)/33 + 10/33)*cos(100*T - 10*sqrt(2)*sqrt(-sin(phi)*cos(theta) + 1)/33 + 10*sqrt(3)/33)/16 + T*cos(100*T - 10*sqrt(2)*sqrt(-sin(phi)*sin(theta) + 1)/33 + 10/33)*cos(100*T - 10*sqrt(2)*sqrt(sin(phi)*cos(theta) + 1)/33 + 10*sqrt(3)/33)/16 + T*cos(100*T + 10*sqrt(2)*sqrt(-sin(phi)*sin(theta) + 1)/33 - 10/33)**2/32 + T*cos(100*T + 10*sqrt(2)*sqrt(-sin(phi)*sin(theta) + 1)/33 - 10/33)*cos(100*T + 10*sqrt(2)*sqrt(sin(phi)*sin(theta) + 1)/33 - 10*sqrt(5)/33)/16 + T*cos(100*T + 10*sqrt(2)*sqrt(-sin(phi)*sin(theta) + 1)/33 - 10/33)*cos(100*T + 10*sqrt(2)*sqrt(-sin(phi)*cos(theta) + 1)/33 - 10*sqrt(3)/33)/16 + T*cos(100*T + 10*sqrt(2)*sqrt(-sin(phi)*sin(theta) + 1)/33 - 10/33)*cos(100*T + 10*sqrt(2)*sqrt(sin(phi)*cos(theta) + 1)/33 - 10*sqrt(3)/33)/16 + T*cos(100*T - 10*sqrt(2)*sqrt(sin(phi)*sin(theta) + 1)/33 + 10*sqrt(5)/33)**2/32 + T*cos(100*T - 10*sqrt(2)*sqrt(sin(phi)*sin(theta) + 1)/33 + 10*sqrt(5)/33)*cos(100*T - 10*sqrt(2)*sqrt(-sin(phi)*cos(theta) + 1)/33 + 10*sqrt(3)/33)/16 + T*cos(100*T - 10*sqrt(2)*sqrt(sin(phi)*sin(theta) + 1)/33 + 10*sqrt(5)/33)*cos(100*T - 10*sqrt(2)*sqrt(sin(phi)*cos(theta) + 1)/33 + 10*sqrt(3)/33)/16 + T*cos(100*T + 10*sqrt(2)*sqrt(sin(phi)*sin(theta) + 1)/33 - 10*sqrt(5)/33)**2/32 + T*cos(100*T + 10*sqrt(2)*sqrt(sin(phi)*sin(theta) + 1)/33 - 10*sqrt(5)/33)*cos(100*T + 10*sqrt(2)*sqrt(-sin(phi)*cos(theta) + 1)/33 - 10*sqrt(3)/33)/16 + T*cos(100*T + 10*sqrt(2)*sqrt(sin(phi)*sin(theta) + 1)/33 - 10*sqrt(5)/33)*cos(100*T + 10*sqrt(2)*sqrt(sin(phi)*cos(theta) + 1)/33 - 10*sqrt(3)/33)/16 + T*cos(100*T - 10*sqrt(2)*sqrt(-sin(phi)*cos(theta) + 1)/33 + 10*sqrt(3)/33)**2/32 + T*cos(100*T - 10*sqrt(2)*sqrt(-sin(phi)*cos(theta) + 1)/33 + 10*sqrt(3)/33)*cos(100*T - 10*sqrt(2)*sqrt(sin(phi)*cos(theta) + 1)/33 + 10*sqrt(3)/33)/16 + T*cos(100*T + 10*sqrt(2)*sqrt(-sin(phi)*cos(theta) + 1)/33 - 10*sqrt(3)/33)**2/32 + T*cos(100*T + 10*sqrt(2)*sqrt(-sin(phi)*cos(theta) + 1)/33 - 10*sqrt(3)/33)*cos(100*T + 10*sqrt(2)*sqrt(sin(phi)*cos(theta) + 1)/33 - 10*sqrt(3)/33)/16 + T*cos(100*T - 10*sqrt(2)*sqrt(sin(phi)*cos(theta) + 1)/33 + 10*sqrt(3)/33)**2/32 + T*cos(100*T + 10*sqrt(2)*sqrt(sin(phi)*cos(theta) + 1)/33 - 10*sqrt(3)/33)**2/32 - sin(100*T - 10*sqrt(2)*sqrt(-sin(phi)*sin(theta) + 1)/33 + 10/33)*cos(100*T - 10*sqrt(2)*sqrt(-sin(phi)*sin(theta) + 1)/33 + 10/33)/3200 - sin(100*T - 10*sqrt(2)*sqrt(-sin(phi)*sin(theta) + 1)/33 + 10/33)*cos(100*T - 10*sqrt(2)*sqrt(-sin(phi)*cos(theta) + 1)/33 + 10*sqrt(3)/33)/1600 - sin(100*T + 10*sqrt(2)*sqrt(-sin(phi)*sin(theta) + 1)/33 - 10/33)*cos(100*T + 10*sqrt(2)*sqrt(-sin(phi)*sin(theta) + 1)/33 - 10/33)/3200 - sin(100*T + 10*sqrt(2)*sqrt(-sin(phi)*sin(theta) + 1)/33 - 10/33)*cos(100*T + 10*sqrt(2)*sqrt(-sin(phi)*cos(theta) + 1)/33 - 10*sqrt(3)/33)/1600 - sin(100*T - 10*sqrt(2)*sqrt(sin(phi)*sin(theta) + 1)/33 + 10*sqrt(5)/33)*cos(100*T - 10*sqrt(2)*sqrt(-sin(phi)*sin(theta) + 1)/33 + 10/33)/1600 - sin(100*T - 10*sqrt(2)*sqrt(sin(phi)*sin(theta) + 1)/33 + 10*sqrt(5)/33)*cos(100*T - 10*sqrt(2)*sqrt(sin(phi)*sin(theta) + 1)/33 + 10*sqrt(5)/33)/3200 - sin(100*T - 10*sqrt(2)*sqrt(sin(phi)*sin(theta) + 1)/33 + 10*sqrt(5)/33)*cos(100*T - 10*sqrt(2)*sqrt(-sin(phi)*cos(theta) + 1)/33 + 10*sqrt(3)/33)/1600 - sin(100*T - 10*sqrt(2)*sqrt(sin(phi)*sin(theta) + 1)/33 + 10*sqrt(5)/33)*cos(100*T - 10*sqrt(2)*sqrt(sin(phi)*cos(theta) + 1)/33 + 10*sqrt(3)/33)/1600 - sin(100*T + 10*sqrt(2)*sqrt(sin(phi)*sin(theta) + 1)/33 - 10*sqrt(5)/33)*cos(100*T + 10*sqrt(2)*sqrt(-sin(phi)*sin(theta) + 1)/33 - 10/33)/1600 - sin(100*T + 10*sqrt(2)*sqrt(sin(phi)*sin(theta) + 1)/33 - 10*sqrt(5)/33)*cos(100*T + 10*sqrt(2)*sqrt(sin(phi)*sin(theta) + 1)/33 - 10*sqrt(5)/33)/3200 - sin(100*T + 10*sqrt(2)*sqrt(sin(phi)*sin(theta) + 1)/33 - 10*sqrt(5)/33)*cos(100*T + 10*sqrt(2)*sqrt(-sin(phi)*cos(theta) + 1)/33 - 10*sqrt(3)/33)/1600 - sin(100*T + 10*sqrt(2)*sqrt(sin(phi)*sin(theta) + 1)/33 - 10*sqrt(5)/33)*cos(100*T + 10*sqrt(2)*sqrt(sin(phi)*cos(theta) + 1)/33 - 10*sqrt(3)/33)/1600 - sin(100*T - 10*sqrt(2)*sqrt(-sin(phi)*cos(theta) + 1)/33 + 10*sqrt(3)/33)*cos(100*T - 10*sqrt(2)*sqrt(-sin(phi)*cos(theta) + 1)/33 + 10*sqrt(3)/33)/3200 - sin(100*T + 10*sqrt(2)*sqrt(-sin(phi)*cos(theta) + 1)/33 - 10*sqrt(3)/33)*cos(100*T + 10*sqrt(2)*sqrt(-sin(phi)*cos(theta) + 1)/33 - 10*sqrt(3)/33)/3200 - sin(100*T - 10*sqrt(2)*sqrt(sin(phi)*cos(theta) + 1)/33 + 10*sqrt(3)/33)*cos(100*T - 10*sqrt(2)*sqrt(-sin(phi)*sin(theta) + 1)/33 + 10/33)/1600 - sin(100*T - 10*sqrt(2)*sqrt(sin(phi)*cos(theta) + 1)/33 + 10*sqrt(3)/33)*cos(100*T - 10*sqrt(2)*sqrt(-sin(phi)*cos(theta) + 1)/33 + 10*sqrt(3)/33)/1600 - sin(100*T - 10*sqrt(2)*sqrt(sin(phi)*cos(theta) + 1)/33 + 10*sqrt(3)/33)*cos(100*T - 10*sqrt(2)*sqrt(sin(phi)*cos(theta) + 1)/33 + 10*sqrt(3)/33)/3200 - sin(100*T + 10*sqrt(2)*sqrt(sin(phi)*cos(theta) + 1)/33 - 10*sqrt(3)/33)*cos(100*T + 10*sqrt(2)*sqrt(-sin(phi)*sin(theta) + 1)/33 - 10/33)/1600 - sin(100*T + 10*sqrt(2)*sqrt(sin(phi)*cos(theta) + 1)/33 - 10*sqrt(3)/33)*cos(100*T + 10*sqrt(2)*sqrt(-sin(phi)*cos(theta) + 1)/33 - 10*sqrt(3)/33)/1600 - sin(100*T + 10*sqrt(2)*sqrt(sin(phi)*cos(theta) + 1)/33 - 10*sqrt(3)/33)*cos(100*T + 10*sqrt(2)*sqrt(sin(phi)*cos(theta) + 1)/33 - 10*sqrt(3)/33)/3200)/(2*T), T, oo, dir='-')\n"
          ],
          "name": "stdout"
        }
      ]
    }
  ]
}