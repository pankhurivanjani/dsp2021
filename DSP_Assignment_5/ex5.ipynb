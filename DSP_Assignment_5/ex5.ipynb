{
 "metadata": {
  "language_info": {
   "codemirror_mode": {
    "name": "ipython",
    "version": 3
   },
   "file_extension": ".py",
   "mimetype": "text/x-python",
   "name": "python",
   "nbconvert_exporter": "python",
   "pygments_lexer": "ipython3",
   "version": "3.8.5"
  },
  "orig_nbformat": 2,
  "kernelspec": {
   "name": "python38564bit28b29d54bb434118891186d15ae7c84f",
   "display_name": "Python 3.8.5 64-bit"
  },
  "metadata": {
   "interpreter": {
    "hash": "31f2aee4e71d21fbe5cf8b01ff0e069b9275f58929596ceb00d14d90e3e16cd6"
   }
  }
 },
 "nbformat": 4,
 "nbformat_minor": 2,
 "cells": [
  {
   "source": [],
   "cell_type": "markdown",
   "metadata": {}
  },
  {
   "source": [],
   "cell_type": "markdown",
   "metadata": {}
  },
  {
   "cell_type": "code",
   "execution_count": 1,
   "metadata": {},
   "outputs": [],
   "source": [
    "import numpy as np\n",
    "import math\n",
    "import matplotlib.pyplot as plt\n",
    "from sympy import *\n",
    "#from sympy.functions import sin,cos\n",
    "from sympy import Symbol, exp, sqrt, diff\n"
   ]
  },
  {
   "cell_type": "code",
   "execution_count": 2,
   "metadata": {},
   "outputs": [],
   "source": [
    "def directivity(x,theta,phi):\n",
    "    R = 1\n",
    "    c=330\n",
    "    omega=3500\n",
    "    s1 = R*cos(theta)*sin(phi)\n",
    "    s2 = R*sin(theta)*sin(phi)\n",
    "    s3 = R*cos(phi)\n",
    "    \n",
    "\n",
    "    micosignal_source = [s1,s2,s3]\n",
    "\n",
    "    desired_source = [0,1,1]\n",
    "    t = symbols('t')\n",
    "    T = symbols('T')\n",
    "\n",
    "    signal = sin(omega*t)\n",
    "    #power of original signal\n",
    "    power_signal_single =  (1/(2*T))*integrate(signal*signal,(t, -T,T))\n",
    "    power_signal_single = limit(power_signal_single,T,oo)\n",
    "\n",
    "    power_signal_temp = 0\n",
    "    #dist_d = sqrt( (x[0][0]-desired_source[0])**2 + (x[0][1]-desired_source[1])**2 + (x[0][2]-desired_source[2])**2 )\n",
    "    dir_spherical = 1 # A +B*cos(phi) A= 1, B= 0\n",
    "    for i in range(len(x)):\n",
    "        #dist_s = sqrt((x[i][0]-micosignal_source[0]))\n",
    "        #dist_s = sqrt((x[i][0] - (s1))**2+ (s2)**2 + (s3)**2)\n",
    "        #dist_s = sqrt(((1-s1))**2+ (s2)**2 + (s3)**2)\n",
    "        #print(dist_s)\n",
    "\n",
    "        dist_s = sqrt( Pow((x[i][0]-s1),2) + Pow((x[i][1]-s2),2) + Pow((x[i][2]-s3),2) )\n",
    "        #dist_s = sqrt((x[i][0]-micosignal_source[0])**2 + (x[i][1]-micosignal_source[1])**2 +(x[i][2]-micosignal_source[2])**2 )\n",
    "\n",
    "        dist_d = sqrt( (x[i][0]-desired_source[0])**2 + (x[i][1]-desired_source[1])**2 + (x[i][2]-desired_source[2])**2 )\n",
    "        power_signal_temp +=  sin(omega*(t-(dist_s-dist_d)/c))*dir_spherical  \n",
    "\n",
    "    power_signal_total =  simplify(integrate(power_signal_temp**2,(t, -T,T))*(1/(2*T)))\n",
    "    #power_signal_total = limit(power_signal_total,T,oo)  \n",
    "    return power_signal_total/power_signal_single\n",
    "\n",
    "\n",
    "    \n",
    "   \n"
   ]
  },
  {
   "cell_type": "code",
   "execution_count": 3,
   "metadata": {},
   "outputs": [],
   "source": [
    "x=[[1,0,0],[0,1,0],[0,-1,0],[-1,0,0]]\n",
    "theta = symbols('theta')\n",
    "phi = symbols('phi')\n",
    "intermediate= directivity(x, theta, phi)"
   ]
  },
  {
   "cell_type": "code",
   "execution_count": 1,
   "metadata": {},
   "outputs": [
    {
     "output_type": "error",
     "ename": "NameError",
     "evalue": "name 'intermediate' is not defined",
     "traceback": [
      "\u001b[0;31m---------------------------------------------------------------------------\u001b[0m",
      "\u001b[0;31mNameError\u001b[0m                                 Traceback (most recent call last)",
      "\u001b[0;32m<ipython-input-1-d0f416dd8c11>\u001b[0m in \u001b[0;36m<module>\u001b[0;34m\u001b[0m\n\u001b[0;32m----> 1\u001b[0;31m \u001b[0mintermediate\u001b[0m\u001b[0;34m\u001b[0m\u001b[0;34m\u001b[0m\u001b[0m\n\u001b[0m",
      "\u001b[0;31mNameError\u001b[0m: name 'intermediate' is not defined"
     ]
    }
   ],
   "source": [
    "intermediate"
   ]
  }
 ]
}